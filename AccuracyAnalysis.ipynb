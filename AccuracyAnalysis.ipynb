{
 "cells": [
  {
   "cell_type": "code",
   "execution_count": 49,
   "metadata": {},
   "outputs": [],
   "source": [
    "import pandas as pd\n",
    "import numpy as np\n",
    "import seaborn as sns\n",
    "from IPython.core.interactiveshell import InteractiveShell\n",
    "InteractiveShell.ast_node_interactivity = \"all\""
   ]
  },
  {
   "cell_type": "code",
   "execution_count": 59,
   "metadata": {},
   "outputs": [
    {
     "data": {
      "text/html": [
       "<div>\n",
       "<style scoped>\n",
       "    .dataframe tbody tr th:only-of-type {\n",
       "        vertical-align: middle;\n",
       "    }\n",
       "\n",
       "    .dataframe tbody tr th {\n",
       "        vertical-align: top;\n",
       "    }\n",
       "\n",
       "    .dataframe thead th {\n",
       "        text-align: right;\n",
       "    }\n",
       "</style>\n",
       "<table border=\"1\" class=\"dataframe\">\n",
       "  <thead>\n",
       "    <tr style=\"text-align: right;\">\n",
       "      <th></th>\n",
       "      <th>Server-RSSI-1</th>\n",
       "      <th>Server-RSSI-2</th>\n",
       "      <th>Server-RSSI-3</th>\n",
       "      <th>Server-RSSI-4</th>\n",
       "      <th>Server-RSSI-5</th>\n",
       "      <th>Square</th>\n",
       "      <th>Point</th>\n",
       "      <th>Orientation</th>\n",
       "    </tr>\n",
       "  </thead>\n",
       "  <tbody>\n",
       "    <tr>\n",
       "      <th>0</th>\n",
       "      <td>-55</td>\n",
       "      <td>-71</td>\n",
       "      <td>-69</td>\n",
       "      <td>-57</td>\n",
       "      <td>-58</td>\n",
       "      <td>s0</td>\n",
       "      <td>0</td>\n",
       "      <td>0.0</td>\n",
       "    </tr>\n",
       "    <tr>\n",
       "      <th>1</th>\n",
       "      <td>-57</td>\n",
       "      <td>-64</td>\n",
       "      <td>-58</td>\n",
       "      <td>-48</td>\n",
       "      <td>-58</td>\n",
       "      <td>s0</td>\n",
       "      <td>0</td>\n",
       "      <td>0.0</td>\n",
       "    </tr>\n",
       "    <tr>\n",
       "      <th>2</th>\n",
       "      <td>-57</td>\n",
       "      <td>-64</td>\n",
       "      <td>-58</td>\n",
       "      <td>-48</td>\n",
       "      <td>-58</td>\n",
       "      <td>s0</td>\n",
       "      <td>0</td>\n",
       "      <td>0.0</td>\n",
       "    </tr>\n",
       "    <tr>\n",
       "      <th>3</th>\n",
       "      <td>-57</td>\n",
       "      <td>-64</td>\n",
       "      <td>-57</td>\n",
       "      <td>-48</td>\n",
       "      <td>-58</td>\n",
       "      <td>s0</td>\n",
       "      <td>0</td>\n",
       "      <td>0.0</td>\n",
       "    </tr>\n",
       "    <tr>\n",
       "      <th>4</th>\n",
       "      <td>-57</td>\n",
       "      <td>-65</td>\n",
       "      <td>-57</td>\n",
       "      <td>-48</td>\n",
       "      <td>-58</td>\n",
       "      <td>s0</td>\n",
       "      <td>0</td>\n",
       "      <td>0.0</td>\n",
       "    </tr>\n",
       "    <tr>\n",
       "      <th>...</th>\n",
       "      <td>...</td>\n",
       "      <td>...</td>\n",
       "      <td>...</td>\n",
       "      <td>...</td>\n",
       "      <td>...</td>\n",
       "      <td>...</td>\n",
       "      <td>...</td>\n",
       "      <td>...</td>\n",
       "    </tr>\n",
       "    <tr>\n",
       "      <th>47795</th>\n",
       "      <td>-63</td>\n",
       "      <td>-51</td>\n",
       "      <td>-58</td>\n",
       "      <td>-52</td>\n",
       "      <td>-51</td>\n",
       "      <td>s7</td>\n",
       "      <td>39</td>\n",
       "      <td>3.0</td>\n",
       "    </tr>\n",
       "    <tr>\n",
       "      <th>47796</th>\n",
       "      <td>-63</td>\n",
       "      <td>-51</td>\n",
       "      <td>-58</td>\n",
       "      <td>-52</td>\n",
       "      <td>-51</td>\n",
       "      <td>s7</td>\n",
       "      <td>39</td>\n",
       "      <td>3.0</td>\n",
       "    </tr>\n",
       "    <tr>\n",
       "      <th>47797</th>\n",
       "      <td>-62</td>\n",
       "      <td>-51</td>\n",
       "      <td>-58</td>\n",
       "      <td>-52</td>\n",
       "      <td>-51</td>\n",
       "      <td>s7</td>\n",
       "      <td>39</td>\n",
       "      <td>3.0</td>\n",
       "    </tr>\n",
       "    <tr>\n",
       "      <th>47798</th>\n",
       "      <td>-63</td>\n",
       "      <td>-51</td>\n",
       "      <td>-58</td>\n",
       "      <td>-52</td>\n",
       "      <td>-51</td>\n",
       "      <td>s7</td>\n",
       "      <td>39</td>\n",
       "      <td>3.0</td>\n",
       "    </tr>\n",
       "    <tr>\n",
       "      <th>47799</th>\n",
       "      <td>-63</td>\n",
       "      <td>-51</td>\n",
       "      <td>-58</td>\n",
       "      <td>-52</td>\n",
       "      <td>-51</td>\n",
       "      <td>s7</td>\n",
       "      <td>39</td>\n",
       "      <td>3.0</td>\n",
       "    </tr>\n",
       "  </tbody>\n",
       "</table>\n",
       "<p>47800 rows × 8 columns</p>\n",
       "</div>"
      ],
      "text/plain": [
       "       Server-RSSI-1  Server-RSSI-2  Server-RSSI-3  Server-RSSI-4  \\\n",
       "0                -55            -71            -69            -57   \n",
       "1                -57            -64            -58            -48   \n",
       "2                -57            -64            -58            -48   \n",
       "3                -57            -64            -57            -48   \n",
       "4                -57            -65            -57            -48   \n",
       "...              ...            ...            ...            ...   \n",
       "47795            -63            -51            -58            -52   \n",
       "47796            -63            -51            -58            -52   \n",
       "47797            -62            -51            -58            -52   \n",
       "47798            -63            -51            -58            -52   \n",
       "47799            -63            -51            -58            -52   \n",
       "\n",
       "       Server-RSSI-5 Square  Point  Orientation  \n",
       "0                -58     s0      0          0.0  \n",
       "1                -58     s0      0          0.0  \n",
       "2                -58     s0      0          0.0  \n",
       "3                -58     s0      0          0.0  \n",
       "4                -58     s0      0          0.0  \n",
       "...              ...    ...    ...          ...  \n",
       "47795            -51     s7     39          3.0  \n",
       "47796            -51     s7     39          3.0  \n",
       "47797            -51     s7     39          3.0  \n",
       "47798            -51     s7     39          3.0  \n",
       "47799            -51     s7     39          3.0  \n",
       "\n",
       "[47800 rows x 8 columns]"
      ]
     },
     "execution_count": 59,
     "metadata": {},
     "output_type": "execute_result"
    },
    {
     "data": {
      "text/html": [
       "<div>\n",
       "<style scoped>\n",
       "    .dataframe tbody tr th:only-of-type {\n",
       "        vertical-align: middle;\n",
       "    }\n",
       "\n",
       "    .dataframe tbody tr th {\n",
       "        vertical-align: top;\n",
       "    }\n",
       "\n",
       "    .dataframe thead th {\n",
       "        text-align: right;\n",
       "    }\n",
       "</style>\n",
       "<table border=\"1\" class=\"dataframe\">\n",
       "  <thead>\n",
       "    <tr style=\"text-align: right;\">\n",
       "      <th></th>\n",
       "      <th>Server-RSSI-1</th>\n",
       "      <th>Server-RSSI-2</th>\n",
       "      <th>Server-RSSI-3</th>\n",
       "      <th>Server-RSSI-4</th>\n",
       "      <th>Server-RSSI-5</th>\n",
       "      <th>Point</th>\n",
       "      <th>Orientation</th>\n",
       "    </tr>\n",
       "  </thead>\n",
       "  <tbody>\n",
       "    <tr>\n",
       "      <th>count</th>\n",
       "      <td>47800.000000</td>\n",
       "      <td>47800.000000</td>\n",
       "      <td>47800.000000</td>\n",
       "      <td>47800.000000</td>\n",
       "      <td>47800.000000</td>\n",
       "      <td>47800.000000</td>\n",
       "      <td>47800.000000</td>\n",
       "    </tr>\n",
       "    <tr>\n",
       "      <th>mean</th>\n",
       "      <td>-64.429916</td>\n",
       "      <td>-55.746715</td>\n",
       "      <td>-57.900105</td>\n",
       "      <td>-52.644017</td>\n",
       "      <td>-54.673201</td>\n",
       "      <td>19.418410</td>\n",
       "      <td>1.493724</td>\n",
       "    </tr>\n",
       "    <tr>\n",
       "      <th>std</th>\n",
       "      <td>6.651648</td>\n",
       "      <td>7.962469</td>\n",
       "      <td>7.449756</td>\n",
       "      <td>7.737755</td>\n",
       "      <td>7.019741</td>\n",
       "      <td>11.498375</td>\n",
       "      <td>1.116155</td>\n",
       "    </tr>\n",
       "    <tr>\n",
       "      <th>min</th>\n",
       "      <td>-91.000000</td>\n",
       "      <td>-91.000000</td>\n",
       "      <td>-90.000000</td>\n",
       "      <td>-91.000000</td>\n",
       "      <td>-90.000000</td>\n",
       "      <td>0.000000</td>\n",
       "      <td>0.000000</td>\n",
       "    </tr>\n",
       "    <tr>\n",
       "      <th>25%</th>\n",
       "      <td>-68.000000</td>\n",
       "      <td>-60.000000</td>\n",
       "      <td>-63.000000</td>\n",
       "      <td>-57.000000</td>\n",
       "      <td>-59.000000</td>\n",
       "      <td>9.000000</td>\n",
       "      <td>0.000000</td>\n",
       "    </tr>\n",
       "    <tr>\n",
       "      <th>50%</th>\n",
       "      <td>-64.000000</td>\n",
       "      <td>-56.000000</td>\n",
       "      <td>-57.000000</td>\n",
       "      <td>-51.000000</td>\n",
       "      <td>-54.000000</td>\n",
       "      <td>19.000000</td>\n",
       "      <td>1.000000</td>\n",
       "    </tr>\n",
       "    <tr>\n",
       "      <th>75%</th>\n",
       "      <td>-60.000000</td>\n",
       "      <td>-51.000000</td>\n",
       "      <td>-53.000000</td>\n",
       "      <td>-48.000000</td>\n",
       "      <td>-50.000000</td>\n",
       "      <td>29.000000</td>\n",
       "      <td>2.000000</td>\n",
       "    </tr>\n",
       "    <tr>\n",
       "      <th>max</th>\n",
       "      <td>-48.000000</td>\n",
       "      <td>-30.000000</td>\n",
       "      <td>-36.000000</td>\n",
       "      <td>-34.000000</td>\n",
       "      <td>-34.000000</td>\n",
       "      <td>39.000000</td>\n",
       "      <td>3.000000</td>\n",
       "    </tr>\n",
       "  </tbody>\n",
       "</table>\n",
       "</div>"
      ],
      "text/plain": [
       "       Server-RSSI-1  Server-RSSI-2  Server-RSSI-3  Server-RSSI-4  \\\n",
       "count   47800.000000   47800.000000   47800.000000   47800.000000   \n",
       "mean      -64.429916     -55.746715     -57.900105     -52.644017   \n",
       "std         6.651648       7.962469       7.449756       7.737755   \n",
       "min       -91.000000     -91.000000     -90.000000     -91.000000   \n",
       "25%       -68.000000     -60.000000     -63.000000     -57.000000   \n",
       "50%       -64.000000     -56.000000     -57.000000     -51.000000   \n",
       "75%       -60.000000     -51.000000     -53.000000     -48.000000   \n",
       "max       -48.000000     -30.000000     -36.000000     -34.000000   \n",
       "\n",
       "       Server-RSSI-5         Point   Orientation  \n",
       "count   47800.000000  47800.000000  47800.000000  \n",
       "mean      -54.673201     19.418410      1.493724  \n",
       "std         7.019741     11.498375      1.116155  \n",
       "min       -90.000000      0.000000      0.000000  \n",
       "25%       -59.000000      9.000000      0.000000  \n",
       "50%       -54.000000     19.000000      1.000000  \n",
       "75%       -50.000000     29.000000      2.000000  \n",
       "max       -34.000000     39.000000      3.000000  "
      ]
     },
     "execution_count": 59,
     "metadata": {},
     "output_type": "execute_result"
    }
   ],
   "source": [
    "df = pd.read_csv('./data/fingerprinting_2.csv', index_col='Unnamed: 0')\n",
    "df = df.reset_index(drop=True)\n",
    "df\n",
    "df.describe()"
   ]
  },
  {
   "cell_type": "code",
   "execution_count": 51,
   "metadata": {},
   "outputs": [
    {
     "data": {
      "text/plain": [
       "(239000,)"
      ]
     },
     "execution_count": 51,
     "metadata": {},
     "output_type": "execute_result"
    }
   ],
   "source": [
    "grouped = df.groupby([\"Point\"])\n",
    "values = np.array([])\n",
    "for i in range(40):\n",
    "    grp = grouped.get_group(i)\n",
    "    for j in [\"Server-RSSI-1\",\"Server-RSSI-2\",\"Server-RSSI-3\",\"Server-RSSI-4\",\"Server-RSSI-5\"]:\n",
    "        mean = grp[j].mean()\n",
    "        values = np.append(values,(grp[j]-mean).to_numpy())\n",
    "values.shape"
   ]
  },
  {
   "cell_type": "code",
   "execution_count": 52,
   "metadata": {},
   "outputs": [
    {
     "data": {
      "text/plain": [
       "<matplotlib.axes._subplots.AxesSubplot at 0x1e15e6a7190>"
      ]
     },
     "execution_count": 52,
     "metadata": {},
     "output_type": "execute_result"
    },
    {
     "data": {
      "image/png": "[encoded data removed]",
      "text/plain": [
       "<Figure size 432x288 with 1 Axes>"
      ]
     },
     "metadata": {
      "needs_background": "light"
     },
     "output_type": "display_data"
    }
   ],
   "source": [
    "sns.distplot(values,kde_kws={'bw':1})"
   ]
  },
  {
   "cell_type": "code",
   "execution_count": 57,
   "metadata": {},
   "outputs": [
    {
     "data": {
      "text/plain": [
       "5.207785235704324"
      ]
     },
     "execution_count": 57,
     "metadata": {},
     "output_type": "execute_result"
    }
   ],
   "source": [
    "from sklearn.metrics import mean_absolute_error\n",
    "mean=values.mean()\n",
    "mean_absolute_error([mean for _ in range(values.size)],values)"
   ]
  },
  {
   "cell_type": "code",
   "execution_count": 61,
   "metadata": {},
   "outputs": [
    {
     "data": {
      "text/plain": [
       "0.0"
      ]
     },
     "execution_count": 61,
     "metadata": {},
     "output_type": "execute_result"
    }
   ],
   "source": [
    "from scipy.stats import normaltest\n",
    "\n",
    "k2,p = normaltest(values)\n",
    "p"
   ]
  },
  {
   "cell_type": "code",
   "execution_count": 142,
   "metadata": {},
   "outputs": [],
   "source": [
    "values = np.sort(values)\n",
    "x = values[np.where(values == np.percentile(values,5))[0][0]:np.where(values == np.percentile(values,95))[0][0]]"
   ]
  },
  {
   "cell_type": "code",
   "execution_count": 143,
   "metadata": {},
   "outputs": [
    {
     "data": {
      "text/plain": [
       "<matplotlib.axes._subplots.AxesSubplot at 0x1e161b0bf70>"
      ]
     },
     "execution_count": 143,
     "metadata": {},
     "output_type": "execute_result"
    },
    {
     "data": {
      "image/png": "[encoded data removed]",
      "text/plain": [
       "<Figure size 432x288 with 1 Axes>"
      ]
     },
     "metadata": {
      "needs_background": "light"
     },
     "output_type": "display_data"
    }
   ],
   "source": [
    "sns.distplot(x,kde_kws={'bw':1})"
   ]
  },
  {
   "cell_type": "code",
   "execution_count": 144,
   "metadata": {},
   "outputs": [
    {
     "data": {
      "text/plain": [
       "4.147382095664195"
      ]
     },
     "execution_count": 144,
     "metadata": {},
     "output_type": "execute_result"
    }
   ],
   "source": [
    "mean_x = x.mean()\n",
    "mean_absolute_error([mean_x for _ in range(x.size)],x)"
   ]
  },
  {
   "cell_type": "code",
   "execution_count": 122,
   "metadata": {},
   "outputs": [],
   "source": []
  },
  {
   "cell_type": "code",
   "execution_count": null,
   "metadata": {},
   "outputs": [],
   "source": []
  }
 ],
 "metadata": {
  "kernelspec": {
   "display_name": "Python 3",
   "language": "python",
   "name": "python3"
  },
  "language_info": {
   "codemirror_mode": {
    "name": "ipython",
    "version": 3
   },
   "file_extension": ".py",
   "mimetype": "text/x-python",
   "name": "python",
   "nbconvert_exporter": "python",
   "pygments_lexer": "ipython3",
   "version": "3.8.2"
  }
 },
 "nbformat": 4,
 "nbformat_minor": 4
}
