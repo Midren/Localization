{
 "cells": [
  {
   "cell_type": "code",
   "execution_count": 1,
   "metadata": {},
   "outputs": [],
   "source": [
    "from itertools import chain\n",
    "from collections import defaultdict, Counter\n",
    "from IPython.core.interactiveshell import InteractiveShell\n",
    "import numpy as np\n",
    "import pandas as pd\n",
    "\n",
    "import seaborn as sns\n",
    "import plotly.express as px\n",
    "import matplotlib.pyplot as plt\n",
    "\n",
    "from sklearn.model_selection import GridSearchCV\n",
    "from sklearn.calibration import CalibratedClassifierCV\n",
    "from sklearn.preprocessing import StandardScaler, MinMaxScaler\n",
    "from sklearn.multioutput import MultiOutputRegressor\n",
    "from sklearn.metrics import mean_absolute_error\n",
    "\n",
    "from sklearn.svm import SVR\n",
    "from sklearn.ensemble import RandomForestRegressor\n",
    "from xgboost import XGBRegressor\n",
    "from sklearn.linear_model import LinearRegression\n",
    "\n",
    "from utils import split_data_regression, add_coordinates\n",
    "\n",
    "from hyperopt import fmin, tpe, hp, STATUS_OK, Trials\n",
    "\n",
    "import warnings\n",
    "warnings.filterwarnings(\"ignore\")\n",
    "\n",
    "InteractiveShell.ast_node_interactivity = \"all\"\n",
    "\n",
    "from utils import draw_regression_accuracy\n",
    "\n",
    "draw_accuracy = lambda model, params: draw_regression_accuracy(df, 40, 300, 400, 8, model, params)"
   ]
  },
  {
   "cell_type": "code",
   "execution_count": 2,
   "metadata": {},
   "outputs": [],
   "source": [
    "np.random.seed(42)"
   ]
  },
  {
   "cell_type": "markdown",
   "metadata": {},
   "source": [
    "# Regression"
   ]
  },
  {
   "cell_type": "markdown",
   "metadata": {},
   "source": [
    "## Data processing"
   ]
  },
  {
   "cell_type": "markdown",
   "metadata": {},
   "source": [
    "During classification we have encountered with problem, that information about correct/uncorrect squares are not enough for understanding. More naturaly for localization to see error, as difference between true point and predicted in 2D plain. To do so, we wanted to try Regression based approach, where we will be predicting **x** and **y** coordinates."
   ]
  },
  {
   "cell_type": "markdown",
   "metadata": {},
   "source": [
    "To do so we will use the fact, that while collecting data for fingerprinting 10 points where chosen not randomly but with next scheme:\n",
    "\n",
    "![Subsquare division](./photos/fingerprinting_2/sub_square_division.png)\n",
    "\n",
    "as square naturally divides into 9 points, we have done so, and tenth point was just measured a little bit lefter."
   ]
  },
  {
   "cell_type": "code",
   "execution_count": 3,
   "metadata": {},
   "outputs": [],
   "source": [
    "df = pd.read_csv('../data/fingerprinting_2.csv', index_col='Unnamed: 0')\n",
    "df = df.reset_index(drop=True)"
   ]
  },
  {
   "cell_type": "markdown",
   "metadata": {},
   "source": [
    "During the data gathering for 2 and 3 squares (s1 and s2) we have lost 1 orientation measurement (100 samples). As each subsequnt measurement is very similar to previous one and we don't use **Orientation** for predicting, then we can just duplicate the last 100 samples to have our data equable."
   ]
  },
  {
   "cell_type": "code",
   "execution_count": 4,
   "metadata": {},
   "outputs": [],
   "source": [
    "grouped = df.groupby(\"Square\")\n",
    "\n",
    "point1 = grouped.get_group(\"s1\").iloc[-100:]\n",
    "point1[\"Point\"] = 39\n",
    "point1[\"Orientation\"] = 3.0\n",
    "\n",
    "point2 = grouped.get_group(\"s2\").iloc[-100:]\n",
    "point2[\"Point\"] = 39\n",
    "point2[\"Orientation\"] = 3.0\n",
    "\n",
    "df = df.append([point1, point2]).reset_index(drop=True)"
   ]
  },
  {
   "cell_type": "markdown",
   "metadata": {},
   "source": [
    "So, to get specific coordinates for each of 10 points in plain (for each we have measured 100 samples in 4 orientations) we will use next info:\n",
    "\n",
    "- size of stool, on which was microcontroller was 40x40 cm\n",
    "- stool was aligned to side of square or placed in center between two sides\n",
    "- the order of points in square:\n",
    "<pre>\n",
    "  1    2    3\n",
    "  8    9 10 4\n",
    "  7    6    5\n",
    "</pre>"
   ]
  },
  {
   "cell_type": "code",
   "execution_count": 5,
   "metadata": {},
   "outputs": [
    {
     "data": {
      "text/html": [
       "<div>\n",
       "<style scoped>\n",
       "    .dataframe tbody tr th:only-of-type {\n",
       "        vertical-align: middle;\n",
       "    }\n",
       "\n",
       "    .dataframe tbody tr th {\n",
       "        vertical-align: top;\n",
       "    }\n",
       "\n",
       "    .dataframe thead th {\n",
       "        text-align: right;\n",
       "    }\n",
       "</style>\n",
       "<table border=\"1\" class=\"dataframe\">\n",
       "  <thead>\n",
       "    <tr style=\"text-align: right;\">\n",
       "      <th></th>\n",
       "      <th>Server-RSSI-1</th>\n",
       "      <th>Server-RSSI-2</th>\n",
       "      <th>Server-RSSI-3</th>\n",
       "      <th>Server-RSSI-4</th>\n",
       "      <th>Server-RSSI-5</th>\n",
       "      <th>Square</th>\n",
       "      <th>Point</th>\n",
       "      <th>Orientation</th>\n",
       "      <th>x</th>\n",
       "      <th>y</th>\n",
       "    </tr>\n",
       "  </thead>\n",
       "  <tbody>\n",
       "    <tr>\n",
       "      <th>0</th>\n",
       "      <td>-55</td>\n",
       "      <td>-71</td>\n",
       "      <td>-69</td>\n",
       "      <td>-57</td>\n",
       "      <td>-58</td>\n",
       "      <td>s0</td>\n",
       "      <td>0</td>\n",
       "      <td>0.0</td>\n",
       "      <td>20</td>\n",
       "      <td>380</td>\n",
       "    </tr>\n",
       "    <tr>\n",
       "      <th>1</th>\n",
       "      <td>-57</td>\n",
       "      <td>-64</td>\n",
       "      <td>-58</td>\n",
       "      <td>-48</td>\n",
       "      <td>-58</td>\n",
       "      <td>s0</td>\n",
       "      <td>0</td>\n",
       "      <td>0.0</td>\n",
       "      <td>20</td>\n",
       "      <td>380</td>\n",
       "    </tr>\n",
       "    <tr>\n",
       "      <th>2</th>\n",
       "      <td>-57</td>\n",
       "      <td>-64</td>\n",
       "      <td>-58</td>\n",
       "      <td>-48</td>\n",
       "      <td>-58</td>\n",
       "      <td>s0</td>\n",
       "      <td>0</td>\n",
       "      <td>0.0</td>\n",
       "      <td>20</td>\n",
       "      <td>380</td>\n",
       "    </tr>\n",
       "    <tr>\n",
       "      <th>3</th>\n",
       "      <td>-57</td>\n",
       "      <td>-64</td>\n",
       "      <td>-57</td>\n",
       "      <td>-48</td>\n",
       "      <td>-58</td>\n",
       "      <td>s0</td>\n",
       "      <td>0</td>\n",
       "      <td>0.0</td>\n",
       "      <td>20</td>\n",
       "      <td>380</td>\n",
       "    </tr>\n",
       "    <tr>\n",
       "      <th>4</th>\n",
       "      <td>-57</td>\n",
       "      <td>-65</td>\n",
       "      <td>-57</td>\n",
       "      <td>-48</td>\n",
       "      <td>-58</td>\n",
       "      <td>s0</td>\n",
       "      <td>0</td>\n",
       "      <td>0.0</td>\n",
       "      <td>20</td>\n",
       "      <td>380</td>\n",
       "    </tr>\n",
       "    <tr>\n",
       "      <th>...</th>\n",
       "      <td>...</td>\n",
       "      <td>...</td>\n",
       "      <td>...</td>\n",
       "      <td>...</td>\n",
       "      <td>...</td>\n",
       "      <td>...</td>\n",
       "      <td>...</td>\n",
       "      <td>...</td>\n",
       "      <td>...</td>\n",
       "      <td>...</td>\n",
       "    </tr>\n",
       "    <tr>\n",
       "      <th>47995</th>\n",
       "      <td>-64</td>\n",
       "      <td>-64</td>\n",
       "      <td>-74</td>\n",
       "      <td>-53</td>\n",
       "      <td>-35</td>\n",
       "      <td>s2</td>\n",
       "      <td>39</td>\n",
       "      <td>3.0</td>\n",
       "      <td>254</td>\n",
       "      <td>350</td>\n",
       "    </tr>\n",
       "    <tr>\n",
       "      <th>47996</th>\n",
       "      <td>-63</td>\n",
       "      <td>-65</td>\n",
       "      <td>-72</td>\n",
       "      <td>-53</td>\n",
       "      <td>-35</td>\n",
       "      <td>s2</td>\n",
       "      <td>39</td>\n",
       "      <td>3.0</td>\n",
       "      <td>254</td>\n",
       "      <td>350</td>\n",
       "    </tr>\n",
       "    <tr>\n",
       "      <th>47997</th>\n",
       "      <td>-63</td>\n",
       "      <td>-65</td>\n",
       "      <td>-72</td>\n",
       "      <td>-54</td>\n",
       "      <td>-35</td>\n",
       "      <td>s2</td>\n",
       "      <td>39</td>\n",
       "      <td>3.0</td>\n",
       "      <td>254</td>\n",
       "      <td>350</td>\n",
       "    </tr>\n",
       "    <tr>\n",
       "      <th>47998</th>\n",
       "      <td>-63</td>\n",
       "      <td>-65</td>\n",
       "      <td>-72</td>\n",
       "      <td>-53</td>\n",
       "      <td>-35</td>\n",
       "      <td>s2</td>\n",
       "      <td>39</td>\n",
       "      <td>3.0</td>\n",
       "      <td>254</td>\n",
       "      <td>350</td>\n",
       "    </tr>\n",
       "    <tr>\n",
       "      <th>47999</th>\n",
       "      <td>-63</td>\n",
       "      <td>-64</td>\n",
       "      <td>-73</td>\n",
       "      <td>-54</td>\n",
       "      <td>-35</td>\n",
       "      <td>s2</td>\n",
       "      <td>39</td>\n",
       "      <td>3.0</td>\n",
       "      <td>254</td>\n",
       "      <td>350</td>\n",
       "    </tr>\n",
       "  </tbody>\n",
       "</table>\n",
       "<p>48000 rows × 10 columns</p>\n",
       "</div>"
      ],
      "text/plain": [
       "       Server-RSSI-1  Server-RSSI-2  Server-RSSI-3  Server-RSSI-4  \\\n",
       "0                -55            -71            -69            -57   \n",
       "1                -57            -64            -58            -48   \n",
       "2                -57            -64            -58            -48   \n",
       "3                -57            -64            -57            -48   \n",
       "4                -57            -65            -57            -48   \n",
       "...              ...            ...            ...            ...   \n",
       "47995            -64            -64            -74            -53   \n",
       "47996            -63            -65            -72            -53   \n",
       "47997            -63            -65            -72            -54   \n",
       "47998            -63            -65            -72            -53   \n",
       "47999            -63            -64            -73            -54   \n",
       "\n",
       "       Server-RSSI-5 Square  Point  Orientation    x    y  \n",
       "0                -58     s0      0          0.0   20  380  \n",
       "1                -58     s0      0          0.0   20  380  \n",
       "2                -58     s0      0          0.0   20  380  \n",
       "3                -58     s0      0          0.0   20  380  \n",
       "4                -58     s0      0          0.0   20  380  \n",
       "...              ...    ...    ...          ...  ...  ...  \n",
       "47995            -35     s2     39          3.0  254  350  \n",
       "47996            -35     s2     39          3.0  254  350  \n",
       "47997            -35     s2     39          3.0  254  350  \n",
       "47998            -35     s2     39          3.0  254  350  \n",
       "47999            -35     s2     39          3.0  254  350  \n",
       "\n",
       "[48000 rows x 10 columns]"
      ]
     },
     "execution_count": 5,
     "metadata": {},
     "output_type": "execute_result"
    }
   ],
   "source": [
    "df = add_coordinates(df)\n",
    "df"
   ]
  },
  {
   "cell_type": "code",
   "execution_count": 6,
   "metadata": {},
   "outputs": [],
   "source": [
    "X_train, y_train, X_val, y_val, X_test, y_test = split_data_regression(\n",
    "    df, points_num=40, train_part=0.7, validation_part=0.15, test_part=0.15)"
   ]
  },
  {
   "cell_type": "markdown",
   "metadata": {},
   "source": [
    "To handle, that we need to find **x** and **y** coordinates, we will use MultiOuputRegressor, which will just make one regressor for each target column"
   ]
  },
  {
   "cell_type": "markdown",
   "metadata": {},
   "source": [
    "## Model"
   ]
  },
  {
   "cell_type": "markdown",
   "metadata": {},
   "source": [
    "First, we wanted to use Decision based regression, as it is very similar to classification (it is actually classifacation), but model will divide continious space on bins by itself, so we don't need to think is it better to have square with 1 m side length or 10 cm."
   ]
  },
  {
   "cell_type": "code",
   "execution_count": 7,
   "metadata": {},
   "outputs": [],
   "source": [
    "# minimizing distance\n",
    "def model_accuracy(params,model,train_data,train_labels,cv_data,cv_labels):\n",
    "    model = MultiOutputRegressor(model(**params))\n",
    "    model.fit(train_data, train_labels)\n",
    "    preds = model.predict(cv_data)\n",
    "    return {'loss': np.mean(np.apply_along_axis(lambda x: (x[0]**2 + x[1]**2)**0.5, 1, np.abs(preds - cv_labels))), 'status': STATUS_OK}"
   ]
  },
  {
   "cell_type": "markdown",
   "metadata": {},
   "source": [
    "### XGBoost"
   ]
  },
  {
   "cell_type": "code",
   "execution_count": 9,
   "metadata": {},
   "outputs": [],
   "source": [
    "%%script false --no-raise-error\n",
    "# setting the space\n",
    "max_depth = np.arange(3, 20, dtype=int)\n",
    "sampling_method = ['gradient_based', 'uniform']\n",
    "xgb_fspace = {\n",
    "    'eta':hp.uniform('eta', 0.01, 1),\n",
    "    'gamma':hp.uniform('gamma', 0.01, 1),\n",
    "    'max_depth':hp.choice('max_depth', max_depth),\n",
    "    'min_child_weight': hp.uniform('min_child_weight', 0, 1),\n",
    "    'subsample': hp.uniform('subsample', 0, 1), \n",
    "    'sampling_method': hp.choice('sampling_method',sampling_method)\n",
    "}\n",
    "\n",
    "xgb_accuracy = lambda x:model_accuracy(x,model=XGBRegressor,train_data=X_train,train_labels=y_train,cv_data=X_val,cv_labels=y_val)\n",
    "trials = Trials()\n",
    "best_xgb = fmin(\n",
    "    fn=xgb_accuracy,\n",
    "    space=xgb_fspace,\n",
    "    algo=tpe.suggest,\n",
    "    max_evals=50, trials=trials, rstate=np.random.RandomState(0))\n",
    "best_xgb['sampling_method']=sampling_method[best_xgb['sampling_method']]\n",
    "best_xgb['max_depth']=max_depth[best_xgb['max_depth']]\n",
    "print('Best parameters: ')\n",
    "for param in best_xgb:\n",
    "    print(param, best_xgb[param])"
   ]
  },
  {
   "cell_type": "code",
   "execution_count": 10,
   "metadata": {},
   "outputs": [],
   "source": [
    "best_xgb = {\n",
    "    \"eta\": 0.031067719583302122,\n",
    "    \"gamma\": 0.6239296575409805,\n",
    "    \"max_depth\": 13,\n",
    "    \"min_child_weight\": 0.360699687865366,\n",
    "    \"sampling_method\": \"gradient_based\",\n",
    "    \"subsample\": 0.0038370187252436128\n",
    "}"
   ]
  },
  {
   "cell_type": "code",
   "execution_count": 11,
   "metadata": {},
   "outputs": [
    {
     "data": {
      "text/plain": [
       "MultiOutputRegressor(estimator=XGBRegressor(base_score=None, booster=None,\n",
       "                                            colsample_bylevel=None,\n",
       "                                            colsample_bynode=None,\n",
       "                                            colsample_bytree=None,\n",
       "                                            eta=0.031067719583302122,\n",
       "                                            gamma=0.6239296575409805,\n",
       "                                            gpu_id=None, importance_type='gain',\n",
       "                                            interaction_constraints=None,\n",
       "                                            learning_rate=None,\n",
       "                                            max_delta_step=None, max_depth=13,\n",
       "                                            min_child_weight=0.360699687865366,\n",
       "                                            missing=nan,\n",
       "                                            monotone_constraints=None,\n",
       "                                            n_estimators=100, n_jobs=None,\n",
       "                                            num_parallel_tree=None,\n",
       "                                            objective='reg:squarederror',\n",
       "                                            random_state=42, reg_alpha=None,\n",
       "                                            reg_lambda=None,\n",
       "                                            sampling_method='gradient_based',\n",
       "                                            scale_pos_weight=None,\n",
       "                                            subsample=0.0038370187252436128,\n",
       "                                            tree_method=None,\n",
       "                                            validate_parameters=False,\n",
       "                                            verbosity=None),\n",
       "                     n_jobs=None)"
      ]
     },
     "execution_count": 11,
     "metadata": {},
     "output_type": "execute_result"
    }
   ],
   "source": [
    "model_xgb = MultiOutputRegressor(XGBRegressor(**best_xgb,random_state=42))\n",
    "\n",
    "model_xgb.fit(X_train, y_train)\n",
    "predicted_xgb = model_xgb.predict(X_val)"
   ]
  },
  {
   "cell_type": "code",
   "execution_count": 13,
   "metadata": {},
   "outputs": [
    {
     "data": {
      "text/plain": [
       "105.47558197530654"
      ]
     },
     "execution_count": 13,
     "metadata": {},
     "output_type": "execute_result"
    }
   ],
   "source": [
    "np.mean(np.apply_along_axis(lambda x: (x[0]**2 + x[1]**2)**0.5, 1, np.abs(predicted_xgb - y_val)))"
   ]
  },
  {
   "cell_type": "code",
   "execution_count": 18,
   "metadata": {},
   "outputs": [
    {
     "data": {
      "image/png": "[encoded data removed]",
      "text/plain": [
       "<Figure size 720x720 with 2 Axes>"
      ]
     },
     "metadata": {
      "needs_background": "light"
     },
     "output_type": "display_data"
    }
   ],
   "source": [
    "draw_accuracy(XGBRegressor, best_xgb)"
   ]
  },
  {
   "cell_type": "markdown",
   "metadata": {},
   "source": [
    "### RandomForest"
   ]
  },
  {
   "cell_type": "code",
   "execution_count": 12,
   "metadata": {},
   "outputs": [],
   "source": [
    "%%script false --no-raise-error\n",
    "max_features=np.arange(1,5,dtype=int)\n",
    "n_estimators=np.arange(100,201,50)\n",
    "rf_fspace = {\n",
    "    'max_depth':hp.choice('max_depth', max_depth),\n",
    "    'max_features': hp.choice('max_features', max_features),\n",
    "    'n_estimators': hp.choice('n_estimators',n_estimators )\n",
    "}\n",
    "\n",
    "rf_accuracy = lambda x:model_accuracy(x,model=RandomForestRegressor,train_data=X_train,train_labels=y_train,cv_data=X_val,cv_labels=y_val)\n",
    "trials = Trials()\n",
    "best_rf = fmin(\n",
    "    fn=rf_accuracy,\n",
    "    space=rf_fspace,\n",
    "    algo=tpe.suggest,\n",
    "    max_evals=50, trials=trials, rstate=np.random.RandomState(0))\n",
    "best_rf['max_features']=max_features[best_rf['max_features']]\n",
    "best_rf['n_estimators']=n_estimators[best_rf['n_estimators']]\n",
    "best_rf['max_depth']=max_depth[best_rf['max_depth']]\n",
    "print('Best parameters: ')\n",
    "for param in best_rf:\n",
    "    print(param, best_rf[param])"
   ]
  },
  {
   "cell_type": "code",
   "execution_count": 8,
   "metadata": {},
   "outputs": [],
   "source": [
    "best_rf = {\n",
    "    \"max_depth\": 4,\n",
    "    \"max_features\": 4,\n",
    "    \"n_estimators\": 200\n",
    "}"
   ]
  },
  {
   "cell_type": "code",
   "execution_count": 9,
   "metadata": {},
   "outputs": [
    {
     "data": {
      "text/plain": [
       "MultiOutputRegressor(estimator=RandomForestRegressor(bootstrap=True,\n",
       "                                                     ccp_alpha=0.0,\n",
       "                                                     criterion='mse',\n",
       "                                                     max_depth=4,\n",
       "                                                     max_features=4,\n",
       "                                                     max_leaf_nodes=None,\n",
       "                                                     max_samples=None,\n",
       "                                                     min_impurity_decrease=0.0,\n",
       "                                                     min_impurity_split=None,\n",
       "                                                     min_samples_leaf=1,\n",
       "                                                     min_samples_split=2,\n",
       "                                                     min_weight_fraction_leaf=0.0,\n",
       "                                                     n_estimators=200,\n",
       "                                                     n_jobs=None,\n",
       "                                                     oob_score=False,\n",
       "                                                     random_state=42, verbose=0,\n",
       "                                                     warm_start=False),\n",
       "                     n_jobs=None)"
      ]
     },
     "execution_count": 9,
     "metadata": {},
     "output_type": "execute_result"
    }
   ],
   "source": [
    "model_rf = MultiOutputRegressor(RandomForestRegressor(**best_rf,random_state=42))\n",
    "\n",
    "model_rf.fit(X_train, y_train)\n",
    "predicted_rf = model_rf.predict(X_val)"
   ]
  },
  {
   "cell_type": "code",
   "execution_count": 11,
   "metadata": {},
   "outputs": [
    {
     "data": {
      "text/plain": [
       "103.4035601555301"
      ]
     },
     "execution_count": 11,
     "metadata": {},
     "output_type": "execute_result"
    }
   ],
   "source": [
    "np.mean(np.apply_along_axis(lambda x: (x[0]**2 + x[1]**2)**0.5, 1, np.abs(predicted_rf - y_val)))"
   ]
  },
  {
   "cell_type": "code",
   "execution_count": 12,
   "metadata": {},
   "outputs": [
    {
     "data": {
      "image/png": "[encoded data removed]",
      "text/plain": [
       "<Figure size 720x720 with 2 Axes>"
      ]
     },
     "metadata": {
      "needs_background": "light"
     },
     "output_type": "display_data"
    }
   ],
   "source": [
    "draw_accuracy(RandomForestRegressor, best_rf)"
   ]
  },
  {
   "cell_type": "code",
   "execution_count": 7,
   "metadata": {},
   "outputs": [],
   "source": [
    "scaler = MinMaxScaler()\n",
    "numeric = ['Server-RSSI-1', 'Server-RSSI-2', 'Server-RSSI-3', 'Server-RSSI-4','Server-RSSI-5']\n",
    "X_train[numeric] = scaler.fit_transform(X_train[numeric])\n",
    "X_test[numeric] = scaler.transform(X_test[numeric])\n",
    "X_val[numeric] = scaler.transform(X_val[numeric])\n",
    "y_scaler = MinMaxScaler()\n",
    "y_train = y_scaler.fit_transform(y_train)\n",
    "y_val = y_scaler.transform(y_val)"
   ]
  },
  {
   "cell_type": "markdown",
   "metadata": {},
   "source": [
    "### Linear Regression"
   ]
  },
  {
   "cell_type": "code",
   "execution_count": 14,
   "metadata": {},
   "outputs": [
    {
     "data": {
      "text/plain": [
       "MultiOutputRegressor(estimator=LinearRegression(copy_X=True, fit_intercept=True,\n",
       "                                                n_jobs=None, normalize=True),\n",
       "                     n_jobs=None)"
      ]
     },
     "execution_count": 14,
     "metadata": {},
     "output_type": "execute_result"
    }
   ],
   "source": [
    "model_linear = MultiOutputRegressor(LinearRegression(normalize=True))\n",
    "\n",
    "model_linear.fit(X_train, y_train)\n",
    "predicted_linear = model_linear.predict(X_val)"
   ]
  },
  {
   "cell_type": "code",
   "execution_count": 15,
   "metadata": {},
   "outputs": [
    {
     "data": {
      "text/plain": [
       "110.42504151642284"
      ]
     },
     "execution_count": 15,
     "metadata": {},
     "output_type": "execute_result"
    }
   ],
   "source": [
    "np.mean(np.apply_along_axis(lambda x: (x[0]**2 + x[1]**2)**0.5, 1, np.abs(y_scaler.inverse_transform(predicted_linear)-y_scaler.inverse_transform(y_val))))"
   ]
  },
  {
   "cell_type": "code",
   "execution_count": 17,
   "metadata": {},
   "outputs": [
    {
     "data": {
      "image/png": "[encoded data removed]",
      "text/plain": [
       "<Figure size 720x720 with 2 Axes>"
      ]
     },
     "metadata": {
      "needs_background": "light"
     },
     "output_type": "display_data"
    }
   ],
   "source": [
    "draw_accuracy(LinearRegression, {})"
   ]
  },
  {
   "cell_type": "markdown",
   "metadata": {},
   "source": [
    "### SVM"
   ]
  },
  {
   "cell_type": "code",
   "execution_count": 14,
   "metadata": {
    "scrolled": true
   },
   "outputs": [],
   "source": [
    "%%script false --no-raise-error\n",
    "kernel=[\"poly\", \"rbf\"]\n",
    "gamma=['scale', 'auto']\n",
    "svm_fspace = {\n",
    "    'kernel': hp.choice('kernel',kernel),\n",
    "    'gamma': hp.choice('gamma',gamma),\n",
    "    'C':hp.uniform('C', 1, 10),\n",
    "    \n",
    "}\n",
    "\n",
    "svm_accuracy = lambda x:model_accuracy(x,model=SVR,train_data=X_train,train_labels=y_train,cv_data=X_val,cv_labels=y_val)\n",
    "trials = Trials()\n",
    "best_svm = fmin(\n",
    "    fn=svm_accuracy,\n",
    "    space=svm_fspace,\n",
    "    algo=tpe.suggest,\n",
    "    max_evals=10, trials=trials, rstate=np.random.RandomState(0))\n",
    "best_svm['kernel']=kernel[best_svm['kernel']]\n",
    "best_svm['gamma']=gamma[best_svm['gamma']]\n",
    "print('Best parameters: ')\n",
    "for param in best_svm:\n",
    "    print(param, best_rf[param])"
   ]
  },
  {
   "cell_type": "code",
   "execution_count": 15,
   "metadata": {},
   "outputs": [],
   "source": [
    "best_svm = {\n",
    "}"
   ]
  },
  {
   "cell_type": "code",
   "execution_count": 16,
   "metadata": {},
   "outputs": [
    {
     "data": {
      "text/plain": [
       "MultiOutputRegressor(estimator=SVR(C=1.0, cache_size=200, coef0=0.0, degree=3,\n",
       "                                   epsilon=0.1, gamma='scale', kernel='rbf',\n",
       "                                   max_iter=-1, shrinking=True, tol=0.001,\n",
       "                                   verbose=False),\n",
       "                     n_jobs=None)"
      ]
     },
     "execution_count": 16,
     "metadata": {},
     "output_type": "execute_result"
    }
   ],
   "source": [
    "model_svm = MultiOutputRegressor(SVR(**best_svm))\n",
    "\n",
    "model_svm.fit(X_train, y_train)\n",
    "predicted_svm = model_svm.predict(X_val)"
   ]
  },
  {
   "cell_type": "code",
   "execution_count": 17,
   "metadata": {},
   "outputs": [
    {
     "data": {
      "text/plain": [
       "109.5013310384061"
      ]
     },
     "execution_count": 17,
     "metadata": {},
     "output_type": "execute_result"
    }
   ],
   "source": [
    "np.mean(np.apply_along_axis(lambda x: (x[0]**2 + x[1]**2)**0.5, 1, np.abs(predicted_svm - y_val)))"
   ]
  },
  {
   "cell_type": "code",
   "execution_count": 13,
   "metadata": {},
   "outputs": [
    {
     "data": {
      "image/png": "[encoded data removed]",
      "text/plain": [
       "<Figure size 720x720 with 2 Axes>"
      ]
     },
     "metadata": {
      "needs_background": "light"
     },
     "output_type": "display_data"
    }
   ],
   "source": [
    "draw_accuracy(SVR, {})"
   ]
  },
  {
   "cell_type": "markdown",
   "metadata": {},
   "source": [
    "### Neural Network"
   ]
  },
  {
   "cell_type": "code",
   "execution_count": 8,
   "metadata": {},
   "outputs": [],
   "source": [
    "import tensorflow as tf\n",
    "from tensorflow.keras.models import Sequential\n",
    "from tensorflow.keras.layers import Dense, Dropout, LSTM, Flatten\n",
    "from tensorflow.keras.callbacks import EarlyStopping, ModelCheckpoint\n",
    "from tensorflow.keras.regularizers import l2 "
   ]
  },
  {
   "cell_type": "code",
   "execution_count": 11,
   "metadata": {},
   "outputs": [],
   "source": [
    "model = Sequential([\n",
    "    Dense(64, activation='relu', kernel_regularizer=l2(0.001), input_dim=5),\n",
    "    Dropout(0.5),\n",
    "    Dense(64, activation='relu', kernel_regularizer=l2(0.001)),\n",
    "    Dropout(0.5),\n",
    "    Dense(2)\n",
    "])\n",
    "\n",
    "model.compile(loss='mean_squared_error', optimizer='adam')\n",
    "es = EarlyStopping(monitor='val_loss', \n",
    "                   mode='auto', patience=10)\n",
    "checkpoint = ModelCheckpoint(\"best_feed_forward.h5\", monitor='val_loss', verbose=False, save_best_only=True, mode='min')"
   ]
  },
  {
   "cell_type": "code",
   "execution_count": 12,
   "metadata": {
    "scrolled": false
   },
   "outputs": [
    {
     "data": {
      "text/plain": [
       "<tensorflow.python.keras.callbacks.History at 0x7f441b756340>"
      ]
     },
     "execution_count": 12,
     "metadata": {},
     "output_type": "execute_result"
    }
   ],
   "source": [
    "model.fit(X_train, y_train, validation_data=(X_val, y_val),\n",
    "          epochs=100,\n",
    "          batch_size=120, callbacks=[es, checkpoint], verbose=False)"
   ]
  },
  {
   "cell_type": "code",
   "execution_count": 25,
   "metadata": {
    "scrolled": false
   },
   "outputs": [
    {
     "data": {
      "text/plain": [
       "100.49935006840333"
      ]
     },
     "execution_count": 25,
     "metadata": {},
     "output_type": "execute_result"
    }
   ],
   "source": [
    "# load a saved model\n",
    "from tensorflow.keras.models import load_model\n",
    "model = load_model('best_feed_forward.h5')\n",
    "np.mean(np.apply_along_axis(lambda x: (x[0]**2 + x[1]**2)**0.5, 1, \n",
    "                            np.abs(\n",
    "                                y_scaler.inverse_transform(model.predict(X_val)) - \n",
    "                                y_scaler.inverse_transform(y_val)\n",
    "                            )))"
   ]
  },
  {
   "cell_type": "code",
   "execution_count": 31,
   "metadata": {},
   "outputs": [
    {
     "data": {
      "text/plain": [
       "<matplotlib.axes._subplots.AxesSubplot at 0x7f4474181790>"
      ]
     },
     "execution_count": 31,
     "metadata": {},
     "output_type": "execute_result"
    },
    {
     "data": {
      "image/png": "[encoded data removed]",
      "text/plain": [
       "<Figure size 720x720 with 2 Axes>"
      ]
     },
     "metadata": {
      "needs_background": "light"
     },
     "output_type": "display_data"
    }
   ],
   "source": [
    "from utils import cartesian_cross_product\n",
    "mean_res = pd.DataFrame({\"x\": df[\"x\"].values, \"y\": df[\"y\"].values, \"accuracy\": np.apply_along_axis(\n",
    "    lambda x: (x[0]**2 + x[1]**2)**0.5, 1, np.abs(y_scaler.inverse_transform(model.predict(scaler.transform(\n",
    "        df[[\"Server-RSSI-\" + str(i) for i in range(1, 6)]].values))) - df[[\"x\", \"y\"]].values))}).groupby([\"x\", \"y\"]).mean().reset_index()\n",
    "\n",
    "coords = mean_res[[\"x\", \"y\"]].values\n",
    "\n",
    "field = np.zeros((400,300))\n",
    "for p in cartesian_cross_product(np.arange(field.shape[1]), np.arange(field.shape[0])):\n",
    "    field[p[1], p[0]] = mean_res.iloc[np.apply_along_axis(lambda x: (x[0]**2 + x[1]**2)**0.5, 1, np.abs(coords - p)).argmin(), 2]\n",
    "\n",
    "field = np.flip(field, 0)\n",
    "fig, ax = plt.subplots(figsize=(10,10))\n",
    "sns.heatmap(field, ax=ax, xticklabels=False,yticklabels=False,cmap=\"coolwarm_r\")"
   ]
  },
  {
   "cell_type": "markdown",
   "metadata": {},
   "source": [
    "## Results"
   ]
  },
  {
   "cell_type": "code",
   "execution_count": null,
   "metadata": {},
   "outputs": [],
   "source": []
  }
 ],
 "metadata": {
  "kernelspec": {
   "display_name": "Python 3",
   "language": "python",
   "name": "python3"
  },
  "language_info": {
   "codemirror_mode": {
    "name": "ipython",
    "version": 3
   },
   "file_extension": ".py",
   "mimetype": "text/x-python",
   "name": "python",
   "nbconvert_exporter": "python",
   "pygments_lexer": "ipython3",
   "version": "3.8.2"
  },
  "toc": {
   "base_numbering": 1,
   "nav_menu": {},
   "number_sections": true,
   "sideBar": true,
   "skip_h1_title": false,
   "title_cell": "Table of Contents",
   "title_sidebar": "Contents",
   "toc_cell": false,
   "toc_position": {},
   "toc_section_display": true,
   "toc_window_display": false
  }
 },
 "nbformat": 4,
 "nbformat_minor": 2
}
