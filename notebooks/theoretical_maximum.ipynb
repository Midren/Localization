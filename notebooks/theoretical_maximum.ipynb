{
 "cells": [
  {
   "cell_type": "code",
   "execution_count": 2,
   "metadata": {},
   "outputs": [],
   "source": [
    "from itertools import chain\n",
    "from collections import defaultdict, Counter\n",
    "import numpy as np\n",
    "\n",
    "import seaborn as sns\n",
    "import plotly.express as px\n",
    "import matplotlib.pyplot as plt\n",
    "\n",
    "import warnings\n",
    "warnings.filterwarnings(\"ignore\")"
   ]
  },
  {
   "cell_type": "markdown",
   "metadata": {},
   "source": [
    "#  Approximating theoretical maximum accuracy"
   ]
  },
  {
   "cell_type": "markdown",
   "metadata": {},
   "source": [
    "We know, that $RSSI = 11 \\lg \\frac{P}{P_0}$\n",
    "\n",
    "So, knowing, that intensity is the power transfered per unit area, and by having power in numenator and denominator, we can conclude, that $RSSI = 10 \\lg \\frac{\\mathcal{I}}{\\mathcal{I}_0}$  \n",
    "\n",
    "Due to Inverse-square law we know, that $\\mathcal{I} \\propto \\frac{1}{r^2}$:\n",
    "\n",
    "So, $\\mathcal{I} = \\frac{c}{r^2}$\n",
    "\n",
    "$RSSI = 10 \\lg \\mathcal{I} - 10 \\lg \\mathcal{I_0} = \n",
    "10 \\lg{\\frac{c}{r^2}} - 10 \\lg{\\mathcal{I_0}} =\n",
    "-20 \\lg{r} + 10 \\lg{c} - 10 \\lg{\\mathcal{I_0}}$\n",
    "\n",
    "Let's substitute $\\mathcal{C} = 10 \\lg{c} - 10 \\lg{\\mathcal{I_0}}$, as\n",
    "it don't depends on distance and is constant\n",
    "\n",
    "\n",
    "$RSSI = -20 \\lg r + \\mathcal{C}$  "
   ]
  },
  {
   "cell_type": "markdown",
   "metadata": {},
   "source": [
    "So let's find the range of distance, that can correspond to same value of RSSI.  \n",
    "We will use next charachteristics of kit (CY8CPROTO-063-BLE), that we are using:\n",
    " - Resolution in 1 db\n",
    " - Accuracy in 4 db"
   ]
  },
  {
   "cell_type": "markdown",
   "metadata": {},
   "source": [
    "So we will create sequence of distance [0.01 - 10] m, \n",
    "and then finding corresponding RSSI. After that we will create groups with rssi values, that are in\n",
    "range [c-accuracy, c+accuracy]. So this group will map to the distance interval and we will\n",
    "assume, that we cannot distinguish rssi's on this interval. "
   ]
  },
  {
   "cell_type": "markdown",
   "metadata": {},
   "source": [
    "##  1-dimensional case"
   ]
  },
  {
   "cell_type": "code",
   "execution_count": 3,
   "metadata": {},
   "outputs": [],
   "source": [
    "@np.vectorize\n",
    "\n",
    "def rssi_from_distance(d):\n",
    "    return -20*np.log10(d)\n",
    "\n",
    "\n",
    "def get_bins_according_to_accuracy(rssi, accuracy):\n",
    "    bins = np.arange(rssi.min(), rssi.max())\n",
    "    group_size = int(accuracy*2 + 1)\n",
    "\n",
    "    \n",
    "\n",
    "    split_indeces = list(range(group_size, bins.shape[0], group_size))\n",
    "    if split_indeces[-1] != bins.shape[0] - 1:\n",
    "        split_indeces.append(bins.shape[0]-1)\n",
    "\n",
    "        \n",
    "\n",
    "    bins = np.split(bins, split_indeces)\n",
    "    bins=np.fromiter(map(np.mean, bins), dtype=float)\n",
    "\n",
    "    return [ bins[abs(bins - rssi[i]).argmin()] for i in range(rssi.shape[0])]\n",
    "\n",
    "\n",
    "def get_intervals_with_same_rssi(rssi_bins, dist_bins):\n",
    "    rssi_to_dist_map = defaultdict(list)\n",
    "    for rssi, dist in zip(rssi_bins, dist_bins):\n",
    "        rssi_to_dist_map[rssi].append(dist)\n",
    "    return np.array([(min(distances), max(distances)) for distances in rssi_to_dist_map.values()])\n",
    "\n",
    "def get_radiuses_for_distance_contour_lines(intervals):\n",
    "    radiuses = np.array([end for st, end in intervals])\n",
    "    return radiuses"
   ]
  },
  {
   "cell_type": "code",
   "execution_count": 4,
   "metadata": {},
   "outputs": [
    {
     "name": "stdout",
     "output_type": "stream",
     "text": [
      "Distance steps: [0.01 0.02 0.05 0.16 0.47 1.33 3.75 9.99]\n"
     ]
    },
    {
     "data": {
      "image/png": "[encoded data removed]",
      "text/plain": [
       "<Figure size 432x288 with 1 Axes>"
      ]
     },
     "metadata": {
      "needs_background": "light"
     },
     "output_type": "display_data"
    }
   ],
   "source": [
    "distances = np.arange(0.01, 10, 0.01)\n",
    "rssi = rssi_from_distance(distances)\n",
    "\n",
    "rssi_bins = get_bins_according_to_accuracy(rssi, 4)\n",
    "\n",
    "sns.lineplot(x=distances, y=rssi_bins)\n",
    "\n",
    "intervals = get_intervals_with_same_rssi(rssi_bins, distances)\n",
    "radiuses = get_radiuses_for_distance_contour_lines(intervals)\n",
    "\n",
    "print(\"Distance steps:\", radiuses)"
   ]
  },
  {
   "cell_type": "markdown",
   "metadata": {},
   "source": [
    "##  2-dimensional case"
   ]
  },
  {
   "cell_type": "markdown",
   "metadata": {},
   "source": [
    "###  Define local enviroment constants"
   ]
  },
  {
   "cell_type": "code",
   "execution_count": 5,
   "metadata": {},
   "outputs": [],
   "source": [
    "x_len = 3\n",
    "y_len = 4\n",
    "\n",
    "beacon_number = 3\n",
    "beacons_location = np.array([[0.5, 0.5], [2.5, 3.5], [1, 1]])"
   ]
  },
  {
   "cell_type": "markdown",
   "metadata": {},
   "source": [
    "###  Generate Grid of points"
   ]
  },
  {
   "cell_type": "code",
   "execution_count": 6,
   "metadata": {},
   "outputs": [],
   "source": [
    "def cartesian_cross_product(x,y):\n",
    "    cross_product = np.transpose([np.tile(x, len(y)),np.repeat(y,len(x))])\n",
    "    return cross_product\n",
    "\n",
    "delta = 0.01\n",
    "points = cartesian_cross_product(np.arange(0, x_len, delta), np.arange(0, y_len, delta))"
   ]
  },
  {
   "cell_type": "markdown",
   "metadata": {},
   "source": [
    "###  Group points by the same RSSI regions"
   ]
  },
  {
   "cell_type": "code",
   "execution_count": 7,
   "metadata": {},
   "outputs": [],
   "source": [
    "def distance(p1, p2):\n",
    "    def helper(p1, p2):\n",
    "        return (((p1[:,0] - p2[0])**2 + (p1[:,1] - p2[1])**2)**0.5)\n",
    "    vectorized_distance = np.vectorize(helper, signature='(n,m),(m)->(n)')\n",
    "    \n",
    "    return np.apply_along_axis(lambda x: vectorized_distance(p1, x), 1, p2)\n",
    "\n",
    "distance = np.vectorize(distance, signature='(n,m),(k,m)->(k,n)')\n",
    "\n",
    "@np.vectorize\n",
    "def find_interval_num(dist):\n",
    "    return (dist > radiuses).argmin() - 1\n",
    "\n",
    "def find_point_flag(p, beacons_location, radiuses):\n",
    "    return find_interval_num(distance(p, beacons_location).T)\n",
    "\n",
    "find_point_flag = np.vectorize(find_point_flag, signature='(n,m),(i,m),(j)->(n,i)')"
   ]
  },
  {
   "cell_type": "code",
   "execution_count": 8,
   "metadata": {},
   "outputs": [],
   "source": [
    "point_flags = find_point_flag(points, beacons_location, radiuses)\n",
    "\n",
    "points_grouped_list = defaultdict(list)\n",
    "for i in range(point_flags.shape[0]):\n",
    "     points_grouped_list[tuple(point_flags[i])].append(points[i])\n",
    "\n",
    "points_grouped = dict()\n",
    "for group in points_grouped_list.keys():\n",
    "    points_grouped[group] = np.array(points_grouped_list[group])"
   ]
  },
  {
   "cell_type": "markdown",
   "metadata": {},
   "source": [
    "###  Get rid of small regions"
   ]
  },
  {
   "cell_type": "code",
   "execution_count": 9,
   "metadata": {},
   "outputs": [],
   "source": [
    "minimum_radius = 0.1\n",
    "\n",
    "min_group = np.asscalar(find_interval_num(minimum_radius))\n",
    "\n",
    "points_grouped_without_small = dict(filter(lambda x: any(map(lambda x: x >= min_group, x[0])), points_grouped.items()))"
   ]
  },
  {
   "cell_type": "markdown",
   "metadata": {},
   "source": [
    "###  Calculate accuracy"
   ]
  },
  {
   "cell_type": "code",
   "execution_count": 10,
   "metadata": {},
   "outputs": [],
   "source": [
    "def accuracy_by_box(points):\n",
    "    x_boundary = np.array([min(points, key=lambda x: x[0])[0], max(points, key=lambda x: x[0])[0]])\n",
    "    y_boundary = np.array([min(points, key=lambda x: x[1])[1], max(points, key=lambda x: x[1])[1]])\n",
    "\n",
    "    minima, maxima = np.concatenate([x_boundary.reshape(1, -1), y_boundary.reshape(1, -1)]).T\n",
    "    return np.asscalar(distance(minima.reshape(1,-1), maxima.reshape(1,-1)))/2\n",
    "\n",
    "def accuracy_by_mean_dist(points):\n",
    "    return np.mean(distance(points, points))"
   ]
  },
  {
   "cell_type": "code",
   "execution_count": 11,
   "metadata": {},
   "outputs": [],
   "source": [
    "region_accuracy_by_box = dict()\n",
    "\n",
    "for region in points_grouped_without_small.items():\n",
    "    region_accuracy_by_box[region[0]] = accuracy_by_box(region[1])"
   ]
  },
  {
   "cell_type": "code",
   "execution_count": 12,
   "metadata": {},
   "outputs": [],
   "source": [
    "region_accuracy_by_mean_dist = dict()\n",
    "\n",
    "for region in points_grouped_without_small.items():\n",
    "    region_accuracy_by_mean_dist[region[0]] = accuracy_by_mean_dist(region[1])"
   ]
  },
  {
   "cell_type": "code",
   "execution_count": 13,
   "metadata": {},
   "outputs": [],
   "source": [
    "accuracies = np.array([np.fromiter(chain(region_accuracy_by_box.values()), float),\n",
    "\n",
    "                       np.fromiter(chain(region_accuracy_by_mean_dist.values()), float)])"
   ]
  },
  {
   "cell_type": "code",
   "execution_count": 14,
   "metadata": {},
   "outputs": [
    {
     "data": {
      "text/plain": [
       "Text(0.5, 0, 'Number of Group')"
      ]
     },
     "execution_count": 14,
     "metadata": {},
     "output_type": "execute_result"
    },
    {
     "data": {
      "image/png": "[encoded data removed]",
      "text/plain": [
       "<Figure size 432x288 with 1 Axes>"
      ]
     },
     "metadata": {
      "needs_background": "light"
     },
     "output_type": "display_data"
    }
   ],
   "source": [
    "cont = plt.bar(x=range(accuracies.shape[1]), height=accuracies[0,:])\n",
    "cont = plt.bar(x=range(accuracies.shape[1]), height=accuracies[1,:])\n",
    "\n",
    "plt.legend([\"Half length from minima and maxima\", \"Mean distance between points\"])\n",
    "plt.ylabel(\"Accuracy\")\n",
    "plt.xlabel(\"Number of Group\")"
   ]
  },
  {
   "cell_type": "code",
   "execution_count": 15,
   "metadata": {},
   "outputs": [
    {
     "name": "stdout",
     "output_type": "stream",
     "text": [
      "Mean accuracy using half length of minima and maxima: 0.46\n",
      "Mean accuracy using mean distance between points: 0.31\n"
     ]
    }
   ],
   "source": [
    "print(\"Mean accuracy using half length of minima and maxima: {:.2}\".format(np.mean(accuracies[0])))\n",
    "print(\"Mean accuracy using mean distance between points: {:.2}\".format(np.mean(accuracies[1])))"
   ]
  },
  {
   "cell_type": "code",
   "execution_count": null,
   "metadata": {},
   "outputs": [],
   "source": []
  }
 ],
 "metadata": {
  "kernelspec": {
   "display_name": "Python 3",
   "language": "python",
   "name": "python3"
  },
  "language_info": {
   "codemirror_mode": {
    "name": "ipython",
    "version": 3
   },
   "file_extension": ".py",
   "mimetype": "text/x-python",
   "name": "python",
   "nbconvert_exporter": "python",
   "pygments_lexer": "ipython3",
   "version": "3.8.2"
  },
  "toc": {
   "base_numbering": 1,
   "nav_menu": {},
   "number_sections": true,
   "sideBar": true,
   "skip_h1_title": false,
   "title_cell": "Table of Contents",
   "title_sidebar": "Contents",
   "toc_cell": false,
   "toc_position": {},
   "toc_section_display": true,
   "toc_window_display": false
  }
 },
 "nbformat": 4,
 "nbformat_minor": 2
}
