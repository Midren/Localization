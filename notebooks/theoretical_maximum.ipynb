{
 "cells": [
  {
   "cell_type": "code",
   "execution_count": 87,
   "metadata": {},
   "outputs": [],
   "source": [
    "from itertools import chain\n",
    "from collections import defaultdict, Counter\n",
    "\n",
    "import pandas as pd\n",
    "import numpy as np\n",
    "\n",
    "import seaborn as sns\n",
    "import plotly.express as px\n",
    "import matplotlib.pyplot as plt\n",
    "import plotly.graph_objects as go\n",
    "\n",
    "import warnings\n",
    "warnings.filterwarnings(\"ignore\")"
   ]
  },
  {
   "cell_type": "markdown",
   "metadata": {},
   "source": [
    "# Accuracy ap"
   ]
  },
  {
   "cell_type": "code",
   "execution_count": 88,
   "metadata": {},
   "outputs": [
    {
     "data": {
      "text/html": [
       "<div>\n",
       "<style scoped>\n",
       "    .dataframe tbody tr th:only-of-type {\n",
       "        vertical-align: middle;\n",
       "    }\n",
       "\n",
       "    .dataframe tbody tr th {\n",
       "        vertical-align: top;\n",
       "    }\n",
       "\n",
       "    .dataframe thead th {\n",
       "        text-align: right;\n",
       "    }\n",
       "</style>\n",
       "<table border=\"1\" class=\"dataframe\">\n",
       "  <thead>\n",
       "    <tr style=\"text-align: right;\">\n",
       "      <th></th>\n",
       "      <th>Server-RSSI-1</th>\n",
       "      <th>Server-RSSI-2</th>\n",
       "      <th>Server-RSSI-3</th>\n",
       "      <th>Server-RSSI-4</th>\n",
       "      <th>Server-RSSI-5</th>\n",
       "      <th>Square</th>\n",
       "      <th>Point</th>\n",
       "      <th>Orientation</th>\n",
       "    </tr>\n",
       "  </thead>\n",
       "  <tbody>\n",
       "    <tr>\n",
       "      <th>0</th>\n",
       "      <td>-55</td>\n",
       "      <td>-71</td>\n",
       "      <td>-69</td>\n",
       "      <td>-57</td>\n",
       "      <td>-58</td>\n",
       "      <td>s0</td>\n",
       "      <td>0</td>\n",
       "      <td>0.0</td>\n",
       "    </tr>\n",
       "    <tr>\n",
       "      <th>1</th>\n",
       "      <td>-57</td>\n",
       "      <td>-64</td>\n",
       "      <td>-58</td>\n",
       "      <td>-48</td>\n",
       "      <td>-58</td>\n",
       "      <td>s0</td>\n",
       "      <td>0</td>\n",
       "      <td>0.0</td>\n",
       "    </tr>\n",
       "    <tr>\n",
       "      <th>2</th>\n",
       "      <td>-57</td>\n",
       "      <td>-64</td>\n",
       "      <td>-58</td>\n",
       "      <td>-48</td>\n",
       "      <td>-58</td>\n",
       "      <td>s0</td>\n",
       "      <td>0</td>\n",
       "      <td>0.0</td>\n",
       "    </tr>\n",
       "    <tr>\n",
       "      <th>3</th>\n",
       "      <td>-57</td>\n",
       "      <td>-64</td>\n",
       "      <td>-57</td>\n",
       "      <td>-48</td>\n",
       "      <td>-58</td>\n",
       "      <td>s0</td>\n",
       "      <td>0</td>\n",
       "      <td>0.0</td>\n",
       "    </tr>\n",
       "    <tr>\n",
       "      <th>4</th>\n",
       "      <td>-57</td>\n",
       "      <td>-65</td>\n",
       "      <td>-57</td>\n",
       "      <td>-48</td>\n",
       "      <td>-58</td>\n",
       "      <td>s0</td>\n",
       "      <td>0</td>\n",
       "      <td>0.0</td>\n",
       "    </tr>\n",
       "    <tr>\n",
       "      <th>...</th>\n",
       "      <td>...</td>\n",
       "      <td>...</td>\n",
       "      <td>...</td>\n",
       "      <td>...</td>\n",
       "      <td>...</td>\n",
       "      <td>...</td>\n",
       "      <td>...</td>\n",
       "      <td>...</td>\n",
       "    </tr>\n",
       "    <tr>\n",
       "      <th>47795</th>\n",
       "      <td>-63</td>\n",
       "      <td>-51</td>\n",
       "      <td>-58</td>\n",
       "      <td>-52</td>\n",
       "      <td>-51</td>\n",
       "      <td>s7</td>\n",
       "      <td>39</td>\n",
       "      <td>3.0</td>\n",
       "    </tr>\n",
       "    <tr>\n",
       "      <th>47796</th>\n",
       "      <td>-63</td>\n",
       "      <td>-51</td>\n",
       "      <td>-58</td>\n",
       "      <td>-52</td>\n",
       "      <td>-51</td>\n",
       "      <td>s7</td>\n",
       "      <td>39</td>\n",
       "      <td>3.0</td>\n",
       "    </tr>\n",
       "    <tr>\n",
       "      <th>47797</th>\n",
       "      <td>-62</td>\n",
       "      <td>-51</td>\n",
       "      <td>-58</td>\n",
       "      <td>-52</td>\n",
       "      <td>-51</td>\n",
       "      <td>s7</td>\n",
       "      <td>39</td>\n",
       "      <td>3.0</td>\n",
       "    </tr>\n",
       "    <tr>\n",
       "      <th>47798</th>\n",
       "      <td>-63</td>\n",
       "      <td>-51</td>\n",
       "      <td>-58</td>\n",
       "      <td>-52</td>\n",
       "      <td>-51</td>\n",
       "      <td>s7</td>\n",
       "      <td>39</td>\n",
       "      <td>3.0</td>\n",
       "    </tr>\n",
       "    <tr>\n",
       "      <th>47799</th>\n",
       "      <td>-63</td>\n",
       "      <td>-51</td>\n",
       "      <td>-58</td>\n",
       "      <td>-52</td>\n",
       "      <td>-51</td>\n",
       "      <td>s7</td>\n",
       "      <td>39</td>\n",
       "      <td>3.0</td>\n",
       "    </tr>\n",
       "  </tbody>\n",
       "</table>\n",
       "<p>47800 rows × 8 columns</p>\n",
       "</div>"
      ],
      "text/plain": [
       "       Server-RSSI-1  Server-RSSI-2  Server-RSSI-3  Server-RSSI-4  \\\n",
       "0                -55            -71            -69            -57   \n",
       "1                -57            -64            -58            -48   \n",
       "2                -57            -64            -58            -48   \n",
       "3                -57            -64            -57            -48   \n",
       "4                -57            -65            -57            -48   \n",
       "...              ...            ...            ...            ...   \n",
       "47795            -63            -51            -58            -52   \n",
       "47796            -63            -51            -58            -52   \n",
       "47797            -62            -51            -58            -52   \n",
       "47798            -63            -51            -58            -52   \n",
       "47799            -63            -51            -58            -52   \n",
       "\n",
       "       Server-RSSI-5 Square  Point  Orientation  \n",
       "0                -58     s0      0          0.0  \n",
       "1                -58     s0      0          0.0  \n",
       "2                -58     s0      0          0.0  \n",
       "3                -58     s0      0          0.0  \n",
       "4                -58     s0      0          0.0  \n",
       "...              ...    ...    ...          ...  \n",
       "47795            -51     s7     39          3.0  \n",
       "47796            -51     s7     39          3.0  \n",
       "47797            -51     s7     39          3.0  \n",
       "47798            -51     s7     39          3.0  \n",
       "47799            -51     s7     39          3.0  \n",
       "\n",
       "[47800 rows x 8 columns]"
      ]
     },
     "execution_count": 88,
     "metadata": {},
     "output_type": "execute_result"
    }
   ],
   "source": [
    "df = pd.read_csv('../data/fingerprinting_2.csv', index_col='Unnamed: 0')\n",
    "df = df.reset_index(drop=True)\n",
    "df"
   ]
  },
  {
   "cell_type": "code",
   "execution_count": 89,
   "metadata": {},
   "outputs": [
    {
     "data": {
      "text/html": [
       "<div>\n",
       "<style scoped>\n",
       "    .dataframe tbody tr th:only-of-type {\n",
       "        vertical-align: middle;\n",
       "    }\n",
       "\n",
       "    .dataframe tbody tr th {\n",
       "        vertical-align: top;\n",
       "    }\n",
       "\n",
       "    .dataframe thead th {\n",
       "        text-align: right;\n",
       "    }\n",
       "</style>\n",
       "<table border=\"1\" class=\"dataframe\">\n",
       "  <thead>\n",
       "    <tr style=\"text-align: right;\">\n",
       "      <th></th>\n",
       "      <th>Server-RSSI-1</th>\n",
       "      <th>Server-RSSI-2</th>\n",
       "      <th>Server-RSSI-3</th>\n",
       "      <th>Server-RSSI-4</th>\n",
       "      <th>Server-RSSI-5</th>\n",
       "      <th>Point</th>\n",
       "      <th>Orientation</th>\n",
       "    </tr>\n",
       "  </thead>\n",
       "  <tbody>\n",
       "    <tr>\n",
       "      <th>count</th>\n",
       "      <td>47800.000000</td>\n",
       "      <td>47800.000000</td>\n",
       "      <td>47800.000000</td>\n",
       "      <td>47800.000000</td>\n",
       "      <td>47800.000000</td>\n",
       "      <td>47800.000000</td>\n",
       "      <td>47800.000000</td>\n",
       "    </tr>\n",
       "    <tr>\n",
       "      <th>mean</th>\n",
       "      <td>-64.429916</td>\n",
       "      <td>-55.746715</td>\n",
       "      <td>-57.900105</td>\n",
       "      <td>-52.644017</td>\n",
       "      <td>-54.673201</td>\n",
       "      <td>19.418410</td>\n",
       "      <td>1.493724</td>\n",
       "    </tr>\n",
       "    <tr>\n",
       "      <th>std</th>\n",
       "      <td>6.651648</td>\n",
       "      <td>7.962469</td>\n",
       "      <td>7.449756</td>\n",
       "      <td>7.737755</td>\n",
       "      <td>7.019741</td>\n",
       "      <td>11.498375</td>\n",
       "      <td>1.116155</td>\n",
       "    </tr>\n",
       "    <tr>\n",
       "      <th>min</th>\n",
       "      <td>-91.000000</td>\n",
       "      <td>-91.000000</td>\n",
       "      <td>-90.000000</td>\n",
       "      <td>-91.000000</td>\n",
       "      <td>-90.000000</td>\n",
       "      <td>0.000000</td>\n",
       "      <td>0.000000</td>\n",
       "    </tr>\n",
       "    <tr>\n",
       "      <th>25%</th>\n",
       "      <td>-68.000000</td>\n",
       "      <td>-60.000000</td>\n",
       "      <td>-63.000000</td>\n",
       "      <td>-57.000000</td>\n",
       "      <td>-59.000000</td>\n",
       "      <td>9.000000</td>\n",
       "      <td>0.000000</td>\n",
       "    </tr>\n",
       "    <tr>\n",
       "      <th>50%</th>\n",
       "      <td>-64.000000</td>\n",
       "      <td>-56.000000</td>\n",
       "      <td>-57.000000</td>\n",
       "      <td>-51.000000</td>\n",
       "      <td>-54.000000</td>\n",
       "      <td>19.000000</td>\n",
       "      <td>1.000000</td>\n",
       "    </tr>\n",
       "    <tr>\n",
       "      <th>75%</th>\n",
       "      <td>-60.000000</td>\n",
       "      <td>-51.000000</td>\n",
       "      <td>-53.000000</td>\n",
       "      <td>-48.000000</td>\n",
       "      <td>-50.000000</td>\n",
       "      <td>29.000000</td>\n",
       "      <td>2.000000</td>\n",
       "    </tr>\n",
       "    <tr>\n",
       "      <th>max</th>\n",
       "      <td>-48.000000</td>\n",
       "      <td>-30.000000</td>\n",
       "      <td>-36.000000</td>\n",
       "      <td>-34.000000</td>\n",
       "      <td>-34.000000</td>\n",
       "      <td>39.000000</td>\n",
       "      <td>3.000000</td>\n",
       "    </tr>\n",
       "  </tbody>\n",
       "</table>\n",
       "</div>"
      ],
      "text/plain": [
       "       Server-RSSI-1  Server-RSSI-2  Server-RSSI-3  Server-RSSI-4  \\\n",
       "count   47800.000000   47800.000000   47800.000000   47800.000000   \n",
       "mean      -64.429916     -55.746715     -57.900105     -52.644017   \n",
       "std         6.651648       7.962469       7.449756       7.737755   \n",
       "min       -91.000000     -91.000000     -90.000000     -91.000000   \n",
       "25%       -68.000000     -60.000000     -63.000000     -57.000000   \n",
       "50%       -64.000000     -56.000000     -57.000000     -51.000000   \n",
       "75%       -60.000000     -51.000000     -53.000000     -48.000000   \n",
       "max       -48.000000     -30.000000     -36.000000     -34.000000   \n",
       "\n",
       "       Server-RSSI-5         Point   Orientation  \n",
       "count   47800.000000  47800.000000  47800.000000  \n",
       "mean      -54.673201     19.418410      1.493724  \n",
       "std         7.019741     11.498375      1.116155  \n",
       "min       -90.000000      0.000000      0.000000  \n",
       "25%       -59.000000      9.000000      0.000000  \n",
       "50%       -54.000000     19.000000      1.000000  \n",
       "75%       -50.000000     29.000000      2.000000  \n",
       "max       -34.000000     39.000000      3.000000  "
      ]
     },
     "execution_count": 89,
     "metadata": {},
     "output_type": "execute_result"
    }
   ],
   "source": [
    "df.describe()"
   ]
  },
  {
   "cell_type": "code",
   "execution_count": 90,
   "metadata": {},
   "outputs": [
    {
     "data": {
      "text/plain": [
       "(239000,)"
      ]
     },
     "execution_count": 90,
     "metadata": {},
     "output_type": "execute_result"
    }
   ],
   "source": [
    "grouped = df.groupby([\"Point\"])\n",
    "values = np.array([])\n",
    "for i in range(40):\n",
    "    grp = grouped.get_group(i)\n",
    "    for j in [\"Server-RSSI-1\",\"Server-RSSI-2\",\"Server-RSSI-3\",\"Server-RSSI-4\",\"Server-RSSI-5\"]:\n",
    "        mean = grp[j].mean()\n",
    "        values = np.append(values,(grp[j]-mean).to_numpy())\n",
    "values.shape"
   ]
  },
  {
   "cell_type": "code",
   "execution_count": 91,
   "metadata": {},
   "outputs": [
    {
     "data": {
      "text/plain": [
       "<matplotlib.axes._subplots.AxesSubplot at 0x13eb1bbb1c0>"
      ]
     },
     "execution_count": 91,
     "metadata": {},
     "output_type": "execute_result"
    },
    {
     "data": {
      "image/png": "[encoded data removed]",
      "text/plain": [
       "<Figure size 432x288 with 1 Axes>"
      ]
     },
     "metadata": {
      "needs_background": "light"
     },
     "output_type": "display_data"
    }
   ],
   "source": [
    "sns.distplot(values,kde_kws={'bw':1})"
   ]
  },
  {
   "cell_type": "code",
   "execution_count": 92,
   "metadata": {},
   "outputs": [
    {
     "data": {
      "text/plain": [
       "5.207785235704324"
      ]
     },
     "execution_count": 92,
     "metadata": {},
     "output_type": "execute_result"
    }
   ],
   "source": [
    "from sklearn.metrics import mean_absolute_error\n",
    "mean=values.mean()\n",
    "mean_absolute_error([mean for _ in range(values.size)],values)"
   ]
  },
  {
   "cell_type": "code",
   "execution_count": 93,
   "metadata": {},
   "outputs": [
    {
     "data": {
      "text/plain": [
       "0.0"
      ]
     },
     "execution_count": 93,
     "metadata": {},
     "output_type": "execute_result"
    }
   ],
   "source": [
    "from scipy.stats import normaltest\n",
    "\n",
    "k2,p = normaltest(values)\n",
    "p"
   ]
  },
  {
   "cell_type": "code",
   "execution_count": 94,
   "metadata": {},
   "outputs": [],
   "source": [
    "values = np.sort(values)\n",
    "x = values[np.where(values == np.percentile(values,5))[0][0]:np.where(values == np.percentile(values,95))[0][0]]"
   ]
  },
  {
   "cell_type": "code",
   "execution_count": 95,
   "metadata": {},
   "outputs": [
    {
     "data": {
      "text/plain": [
       "<matplotlib.lines.Line2D at 0x13eb41e17f0>"
      ]
     },
     "execution_count": 95,
     "metadata": {},
     "output_type": "execute_result"
    },
    {
     "data": {
      "image/png": "[encoded data removed]",
      "text/plain": [
       "<Figure size 432x288 with 1 Axes>"
      ]
     },
     "metadata": {
      "needs_background": "light"
     },
     "output_type": "display_data"
    }
   ],
   "source": [
    "sns.distplot(values,kde_kws={'bw':1})\n",
    "plt.axvline(np.percentile(values,5), 0,10,color='red')\n",
    "plt.axvline(np.percentile(values,95), 0,10,color='red')"
   ]
  },
  {
   "cell_type": "code",
   "execution_count": 96,
   "metadata": {},
   "outputs": [
    {
     "data": {
      "text/plain": [
       "4.147382095664195"
      ]
     },
     "execution_count": 96,
     "metadata": {},
     "output_type": "execute_result"
    }
   ],
   "source": [
    "mean_x = x.mean()\n",
    "mean_absolute_error([mean_x for _ in range(x.size)],x)"
   ]
  },
  {
   "cell_type": "code",
   "execution_count": 97,
   "metadata": {},
   "outputs": [],
   "source": [
    "def init_figure(x=(-1,8),y=(-1,8),width=1000,height=1000):\n",
    "    fig = go.Figure()\n",
    "    fig.update_xaxes(range=x, showline=True)\n",
    "    fig.update_yaxes(range=y,showline=True)\n",
    "    fig.update_layout(\n",
    "        autosize=False,\n",
    "        width=width,\n",
    "        height=height\n",
    "    )\n",
    "    fig.update_layout(showlegend=False)\n",
    "    return fig\n",
    "def add_circle(fig,radius,center = (0,0),color=\"LightSeaGreen\"):\n",
    "    fig.add_trace(go.Scatter(\n",
    "    x=(center[0],),\n",
    "    y=(center[1],),\n",
    "    mode=\"markers\",\n",
    "    line_color=color\n",
    "))\n",
    "    fig.add_shape(\n",
    "                type=\"circle\",\n",
    "                xref=\"x\",\n",
    "                yref=\"y\",\n",
    "                x0=center[0]-radius,\n",
    "                y0=center[1]-radius,\n",
    "                x1=center[0]+radius,\n",
    "                y1=center[1]+radius,\n",
    "                line_color=color\n",
    "    )\n",
    "def add_beacon_circles(fig,accuracies,center = (0,0),color=\"LightSeaGreen\"):\n",
    "    for acc in accuracies:\n",
    "        add_circle(fig,acc,center,color)"
   ]
  },
  {
   "cell_type": "code",
   "execution_count": 98,
   "metadata": {},
   "outputs": [
    {
     "data": {
      "application/vnd.plotly.v1+json": {
       "config": {
        "plotlyServerURL": "https://plot.ly"
       },
       "data": [
        {
         "line": {
          "color": "LightSeaGreen"
         },
         "mode": "markers",
         "type": "scatter",
         "x": [
          0
         ],
         "y": [
          -0.25
         ]
        },
        {
         "line": {
          "color": "LightSeaGreen"
         },
         "mode": "markers",
         "type": "scatter",
         "x": [
          0
         ],
         "y": [
          -0.25
         ]
        },
        {
         "line": {
          "color": "LightSeaGreen"
         },
         "mode": "markers",
         "type": "scatter",
         "x": [
          0
         ],
         "y": [
          -0.25
         ]
        },
        {
         "line": {
          "color": "LightSeaGreen"
         },
         "mode": "markers",
         "type": "scatter",
         "x": [
          0
         ],
         "y": [
          -0.25
         ]
        },
        {
         "line": {
          "color": "LightSeaGreen"
         },
         "mode": "markers",
         "type": "scatter",
         "x": [
          0
         ],
         "y": [
          -0.25
         ]
        },
        {
         "line": {
          "color": "LightSeaGreen"
         },
         "mode": "markers",
         "type": "scatter",
         "x": [
          0
         ],
         "y": [
          -0.25
         ]
        },
        {
         "line": {
          "color": "#ff7f0e"
         },
         "mode": "markers",
         "type": "scatter",
         "x": [
          4
         ],
         "y": [
          -0.35
         ]
        },
        {
         "line": {
          "color": "#ff7f0e"
         },
         "mode": "markers",
         "type": "scatter",
         "x": [
          4
         ],
         "y": [
          -0.35
         ]
        },
        {
         "line": {
          "color": "#ff7f0e"
         },
         "mode": "markers",
         "type": "scatter",
         "x": [
          4
         ],
         "y": [
          -0.35
         ]
        },
        {
         "line": {
          "color": "#ff7f0e"
         },
         "mode": "markers",
         "type": "scatter",
         "x": [
          4
         ],
         "y": [
          -0.35
         ]
        },
        {
         "line": {
          "color": "#ff7f0e"
         },
         "mode": "markers",
         "type": "scatter",
         "x": [
          4
         ],
         "y": [
          -0.35
         ]
        },
        {
         "line": {
          "color": "#ff7f0e"
         },
         "mode": "markers",
         "type": "scatter",
         "x": [
          4
         ],
         "y": [
          -0.35
         ]
        },
        {
         "line": {
          "color": "#9467bd"
         },
         "mode": "markers",
         "type": "scatter",
         "x": [
          0
         ],
         "y": [
          4.2
         ]
        },
        {
         "line": {
          "color": "#9467bd"
         },
         "mode": "markers",
         "type": "scatter",
         "x": [
          0
         ],
         "y": [
          4.2
         ]
        },
        {
         "line": {
          "color": "#9467bd"
         },
         "mode": "markers",
         "type": "scatter",
         "x": [
          0
         ],
         "y": [
          4.2
         ]
        },
        {
         "line": {
          "color": "#9467bd"
         },
         "mode": "markers",
         "type": "scatter",
         "x": [
          0
         ],
         "y": [
          4.2
         ]
        },
        {
         "line": {
          "color": "#9467bd"
         },
         "mode": "markers",
         "type": "scatter",
         "x": [
          0
         ],
         "y": [
          4.2
         ]
        },
        {
         "line": {
          "color": "#9467bd"
         },
         "mode": "markers",
         "type": "scatter",
         "x": [
          0
         ],
         "y": [
          4.2
         ]
        }
       ],
       "layout": {
        "autosize": false,
        "height": 1000,
        "shapes": [
         {
          "line": {
           "color": "LightSeaGreen"
          },
          "type": "circle",
          "x0": -0.05,
          "x1": 0.05,
          "xref": "x",
          "y0": -0.3,
          "y1": -0.2,
          "yref": "y"
         },
         {
          "line": {
           "color": "LightSeaGreen"
          },
          "type": "circle",
          "x0": -0.1,
          "x1": 0.1,
          "xref": "x",
          "y0": -0.35,
          "y1": -0.15,
          "yref": "y"
         },
         {
          "line": {
           "color": "LightSeaGreen"
          },
          "type": "circle",
          "x0": -0.25,
          "x1": 0.25,
          "xref": "x",
          "y0": -0.5,
          "y1": 0,
          "yref": "y"
         },
         {
          "line": {
           "color": "LightSeaGreen"
          },
          "type": "circle",
          "x0": -0.7,
          "x1": 0.7,
          "xref": "x",
          "y0": -0.95,
          "y1": 0.44999999999999996,
          "yref": "y"
         },
         {
          "line": {
           "color": "LightSeaGreen"
          },
          "type": "circle",
          "x0": -2,
          "x1": 2,
          "xref": "x",
          "y0": -2.25,
          "y1": 1.75,
          "yref": "y"
         },
         {
          "line": {
           "color": "LightSeaGreen"
          },
          "type": "circle",
          "x0": -5,
          "x1": 5,
          "xref": "x",
          "y0": -5.25,
          "y1": 4.75,
          "yref": "y"
         },
         {
          "line": {
           "color": "#ff7f0e"
          },
          "type": "circle",
          "x0": 3.95,
          "x1": 4.05,
          "xref": "x",
          "y0": -0.39999999999999997,
          "y1": -0.3,
          "yref": "y"
         },
         {
          "line": {
           "color": "#ff7f0e"
          },
          "type": "circle",
          "x0": 3.9,
          "x1": 4.1,
          "xref": "x",
          "y0": -0.44999999999999996,
          "y1": -0.24999999999999997,
          "yref": "y"
         },
         {
          "line": {
           "color": "#ff7f0e"
          },
          "type": "circle",
          "x0": 3.75,
          "x1": 4.25,
          "xref": "x",
          "y0": -0.6,
          "y1": -0.09999999999999998,
          "yref": "y"
         },
         {
          "line": {
           "color": "#ff7f0e"
          },
          "type": "circle",
          "x0": 3.3,
          "x1": 4.7,
          "xref": "x",
          "y0": -1.0499999999999998,
          "y1": 0.35,
          "yref": "y"
         },
         {
          "line": {
           "color": "#ff7f0e"
          },
          "type": "circle",
          "x0": 2,
          "x1": 6,
          "xref": "x",
          "y0": -2.35,
          "y1": 1.65,
          "yref": "y"
         },
         {
          "line": {
           "color": "#ff7f0e"
          },
          "type": "circle",
          "x0": -1,
          "x1": 9,
          "xref": "x",
          "y0": -5.35,
          "y1": 4.65,
          "yref": "y"
         },
         {
          "line": {
           "color": "#9467bd"
          },
          "type": "circle",
          "x0": -0.05,
          "x1": 0.05,
          "xref": "x",
          "y0": 4.15,
          "y1": 4.25,
          "yref": "y"
         },
         {
          "line": {
           "color": "#9467bd"
          },
          "type": "circle",
          "x0": -0.1,
          "x1": 0.1,
          "xref": "x",
          "y0": 4.1000000000000005,
          "y1": 4.3,
          "yref": "y"
         },
         {
          "line": {
           "color": "#9467bd"
          },
          "type": "circle",
          "x0": -0.25,
          "x1": 0.25,
          "xref": "x",
          "y0": 3.95,
          "y1": 4.45,
          "yref": "y"
         },
         {
          "line": {
           "color": "#9467bd"
          },
          "type": "circle",
          "x0": -0.7,
          "x1": 0.7,
          "xref": "x",
          "y0": 3.5,
          "y1": 4.9,
          "yref": "y"
         },
         {
          "line": {
           "color": "#9467bd"
          },
          "type": "circle",
          "x0": -2,
          "x1": 2,
          "xref": "x",
          "y0": 2.2,
          "y1": 6.2,
          "yref": "y"
         },
         {
          "line": {
           "color": "#9467bd"
          },
          "type": "circle",
          "x0": -5,
          "x1": 5,
          "xref": "x",
          "y0": -0.7999999999999998,
          "y1": 9.2,
          "yref": "y"
         }
        ],
        "showlegend": false,
        "template": {
         "data": {
          "bar": [
           {
            "error_x": {
             "color": "#2a3f5f"
            },
            "error_y": {
             "color": "#2a3f5f"
            },
            "marker": {
             "line": {
              "color": "#E5ECF6",
              "width": 0.5
             }
            },
            "type": "bar"
           }
          ],
          "barpolar": [
           {
            "marker": {
             "line": {
              "color": "#E5ECF6",
              "width": 0.5
             }
            },
            "type": "barpolar"
           }
          ],
          "carpet": [
           {
            "aaxis": {
             "endlinecolor": "#2a3f5f",
             "gridcolor": "white",
             "linecolor": "white",
             "minorgridcolor": "white",
             "startlinecolor": "#2a3f5f"
            },
            "baxis": {
             "endlinecolor": "#2a3f5f",
             "gridcolor": "white",
             "linecolor": "white",
             "minorgridcolor": "white",
             "startlinecolor": "#2a3f5f"
            },
            "type": "carpet"
           }
          ],
          "choropleth": [
           {
            "colorbar": {
             "outlinewidth": 0,
             "ticks": ""
            },
            "type": "choropleth"
           }
          ],
          "contour": [
           {
            "colorbar": {
             "outlinewidth": 0,
             "ticks": ""
            },
            "colorscale": [
             [
              0,
              "#0d0887"
             ],
             [
              0.1111111111111111,
              "#46039f"
             ],
             [
              0.2222222222222222,
              "#7201a8"
             ],
             [
              0.3333333333333333,
              "#9c179e"
             ],
             [
              0.4444444444444444,
              "#bd3786"
             ],
             [
              0.5555555555555556,
              "#d8576b"
             ],
             [
              0.6666666666666666,
              "#ed7953"
             ],
             [
              0.7777777777777778,
              "#fb9f3a"
             ],
             [
              0.8888888888888888,
              "#fdca26"
             ],
             [
              1,
              "#f0f921"
             ]
            ],
            "type": "contour"
           }
          ],
          "contourcarpet": [
           {
            "colorbar": {
             "outlinewidth": 0,
             "ticks": ""
            },
            "type": "contourcarpet"
           }
          ],
          "heatmap": [
           {
            "colorbar": {
             "outlinewidth": 0,
             "ticks": ""
            },
            "colorscale": [
             [
              0,
              "#0d0887"
             ],
             [
              0.1111111111111111,
              "#46039f"
             ],
             [
              0.2222222222222222,
              "#7201a8"
             ],
             [
              0.3333333333333333,
              "#9c179e"
             ],
             [
              0.4444444444444444,
              "#bd3786"
             ],
             [
              0.5555555555555556,
              "#d8576b"
             ],
             [
              0.6666666666666666,
              "#ed7953"
             ],
             [
              0.7777777777777778,
              "#fb9f3a"
             ],
             [
              0.8888888888888888,
              "#fdca26"
             ],
             [
              1,
              "#f0f921"
             ]
            ],
            "type": "heatmap"
           }
          ],
          "heatmapgl": [
           {
            "colorbar": {
             "outlinewidth": 0,
             "ticks": ""
            },
            "colorscale": [
             [
              0,
              "#0d0887"
             ],
             [
              0.1111111111111111,
              "#46039f"
             ],
             [
              0.2222222222222222,
              "#7201a8"
             ],
             [
              0.3333333333333333,
              "#9c179e"
             ],
             [
              0.4444444444444444,
              "#bd3786"
             ],
             [
              0.5555555555555556,
              "#d8576b"
             ],
             [
              0.6666666666666666,
              "#ed7953"
             ],
             [
              0.7777777777777778,
              "#fb9f3a"
             ],
             [
              0.8888888888888888,
              "#fdca26"
             ],
             [
              1,
              "#f0f921"
             ]
            ],
            "type": "heatmapgl"
           }
          ],
          "histogram": [
           {
            "marker": {
             "colorbar": {
              "outlinewidth": 0,
              "ticks": ""
             }
            },
            "type": "histogram"
           }
          ],
          "histogram2d": [
           {
            "colorbar": {
             "outlinewidth": 0,
             "ticks": ""
            },
            "colorscale": [
             [
              0,
              "#0d0887"
             ],
             [
              0.1111111111111111,
              "#46039f"
             ],
             [
              0.2222222222222222,
              "#7201a8"
             ],
             [
              0.3333333333333333,
              "#9c179e"
             ],
             [
              0.4444444444444444,
              "#bd3786"
             ],
             [
              0.5555555555555556,
              "#d8576b"
             ],
             [
              0.6666666666666666,
              "#ed7953"
             ],
             [
              0.7777777777777778,
              "#fb9f3a"
             ],
             [
              0.8888888888888888,
              "#fdca26"
             ],
             [
              1,
              "#f0f921"
             ]
            ],
            "type": "histogram2d"
           }
          ],
          "histogram2dcontour": [
           {
            "colorbar": {
             "outlinewidth": 0,
             "ticks": ""
            },
            "colorscale": [
             [
              0,
              "#0d0887"
             ],
             [
              0.1111111111111111,
              "#46039f"
             ],
             [
              0.2222222222222222,
              "#7201a8"
             ],
             [
              0.3333333333333333,
              "#9c179e"
             ],
             [
              0.4444444444444444,
              "#bd3786"
             ],
             [
              0.5555555555555556,
              "#d8576b"
             ],
             [
              0.6666666666666666,
              "#ed7953"
             ],
             [
              0.7777777777777778,
              "#fb9f3a"
             ],
             [
              0.8888888888888888,
              "#fdca26"
             ],
             [
              1,
              "#f0f921"
             ]
            ],
            "type": "histogram2dcontour"
           }
          ],
          "mesh3d": [
           {
            "colorbar": {
             "outlinewidth": 0,
             "ticks": ""
            },
            "type": "mesh3d"
           }
          ],
          "parcoords": [
           {
            "line": {
             "colorbar": {
              "outlinewidth": 0,
              "ticks": ""
             }
            },
            "type": "parcoords"
           }
          ],
          "pie": [
           {
            "automargin": true,
            "type": "pie"
           }
          ],
          "scatter": [
           {
            "marker": {
             "colorbar": {
              "outlinewidth": 0,
              "ticks": ""
             }
            },
            "type": "scatter"
           }
          ],
          "scatter3d": [
           {
            "line": {
             "colorbar": {
              "outlinewidth": 0,
              "ticks": ""
             }
            },
            "marker": {
             "colorbar": {
              "outlinewidth": 0,
              "ticks": ""
             }
            },
            "type": "scatter3d"
           }
          ],
          "scattercarpet": [
           {
            "marker": {
             "colorbar": {
              "outlinewidth": 0,
              "ticks": ""
             }
            },
            "type": "scattercarpet"
           }
          ],
          "scattergeo": [
           {
            "marker": {
             "colorbar": {
              "outlinewidth": 0,
              "ticks": ""
             }
            },
            "type": "scattergeo"
           }
          ],
          "scattergl": [
           {
            "marker": {
             "colorbar": {
              "outlinewidth": 0,
              "ticks": ""
             }
            },
            "type": "scattergl"
           }
          ],
          "scattermapbox": [
           {
            "marker": {
             "colorbar": {
              "outlinewidth": 0,
              "ticks": ""
             }
            },
            "type": "scattermapbox"
           }
          ],
          "scatterpolar": [
           {
            "marker": {
             "colorbar": {
              "outlinewidth": 0,
              "ticks": ""
             }
            },
            "type": "scatterpolar"
           }
          ],
          "scatterpolargl": [
           {
            "marker": {
             "colorbar": {
              "outlinewidth": 0,
              "ticks": ""
             }
            },
            "type": "scatterpolargl"
           }
          ],
          "scatterternary": [
           {
            "marker": {
             "colorbar": {
              "outlinewidth": 0,
              "ticks": ""
             }
            },
            "type": "scatterternary"
           }
          ],
          "surface": [
           {
            "colorbar": {
             "outlinewidth": 0,
             "ticks": ""
            },
            "colorscale": [
             [
              0,
              "#0d0887"
             ],
             [
              0.1111111111111111,
              "#46039f"
             ],
             [
              0.2222222222222222,
              "#7201a8"
             ],
             [
              0.3333333333333333,
              "#9c179e"
             ],
             [
              0.4444444444444444,
              "#bd3786"
             ],
             [
              0.5555555555555556,
              "#d8576b"
             ],
             [
              0.6666666666666666,
              "#ed7953"
             ],
             [
              0.7777777777777778,
              "#fb9f3a"
             ],
             [
              0.8888888888888888,
              "#fdca26"
             ],
             [
              1,
              "#f0f921"
             ]
            ],
            "type": "surface"
           }
          ],
          "table": [
           {
            "cells": {
             "fill": {
              "color": "#EBF0F8"
             },
             "line": {
              "color": "white"
             }
            },
            "header": {
             "fill": {
              "color": "#C8D4E3"
             },
             "line": {
              "color": "white"
             }
            },
            "type": "table"
           }
          ]
         },
         "layout": {
          "annotationdefaults": {
           "arrowcolor": "#2a3f5f",
           "arrowhead": 0,
           "arrowwidth": 1
          },
          "coloraxis": {
           "colorbar": {
            "outlinewidth": 0,
            "ticks": ""
           }
          },
          "colorscale": {
           "diverging": [
            [
             0,
             "#8e0152"
            ],
            [
             0.1,
             "#c51b7d"
            ],
            [
             0.2,
             "#de77ae"
            ],
            [
             0.3,
             "#f1b6da"
            ],
            [
             0.4,
             "#fde0ef"
            ],
            [
             0.5,
             "#f7f7f7"
            ],
            [
             0.6,
             "#e6f5d0"
            ],
            [
             0.7,
             "#b8e186"
            ],
            [
             0.8,
             "#7fbc41"
            ],
            [
             0.9,
             "#4d9221"
            ],
            [
             1,
             "#276419"
            ]
           ],
           "sequential": [
            [
             0,
             "#0d0887"
            ],
            [
             0.1111111111111111,
             "#46039f"
            ],
            [
             0.2222222222222222,
             "#7201a8"
            ],
            [
             0.3333333333333333,
             "#9c179e"
            ],
            [
             0.4444444444444444,
             "#bd3786"
            ],
            [
             0.5555555555555556,
             "#d8576b"
            ],
            [
             0.6666666666666666,
             "#ed7953"
            ],
            [
             0.7777777777777778,
             "#fb9f3a"
            ],
            [
             0.8888888888888888,
             "#fdca26"
            ],
            [
             1,
             "#f0f921"
            ]
           ],
           "sequentialminus": [
            [
             0,
             "#0d0887"
            ],
            [
             0.1111111111111111,
             "#46039f"
            ],
            [
             0.2222222222222222,
             "#7201a8"
            ],
            [
             0.3333333333333333,
             "#9c179e"
            ],
            [
             0.4444444444444444,
             "#bd3786"
            ],
            [
             0.5555555555555556,
             "#d8576b"
            ],
            [
             0.6666666666666666,
             "#ed7953"
            ],
            [
             0.7777777777777778,
             "#fb9f3a"
            ],
            [
             0.8888888888888888,
             "#fdca26"
            ],
            [
             1,
             "#f0f921"
            ]
           ]
          },
          "colorway": [
           "#636efa",
           "#EF553B",
           "#00cc96",
           "#ab63fa",
           "#FFA15A",
           "#19d3f3",
           "#FF6692",
           "#B6E880",
           "#FF97FF",
           "#FECB52"
          ],
          "font": {
           "color": "#2a3f5f"
          },
          "geo": {
           "bgcolor": "white",
           "lakecolor": "white",
           "landcolor": "#E5ECF6",
           "showlakes": true,
           "showland": true,
           "subunitcolor": "white"
          },
          "hoverlabel": {
           "align": "left"
          },
          "hovermode": "closest",
          "mapbox": {
           "style": "light"
          },
          "paper_bgcolor": "white",
          "plot_bgcolor": "#E5ECF6",
          "polar": {
           "angularaxis": {
            "gridcolor": "white",
            "linecolor": "white",
            "ticks": ""
           },
           "bgcolor": "#E5ECF6",
           "radialaxis": {
            "gridcolor": "white",
            "linecolor": "white",
            "ticks": ""
           }
          },
          "scene": {
           "xaxis": {
            "backgroundcolor": "#E5ECF6",
            "gridcolor": "white",
            "gridwidth": 2,
            "linecolor": "white",
            "showbackground": true,
            "ticks": "",
            "zerolinecolor": "white"
           },
           "yaxis": {
            "backgroundcolor": "#E5ECF6",
            "gridcolor": "white",
            "gridwidth": 2,
            "linecolor": "white",
            "showbackground": true,
            "ticks": "",
            "zerolinecolor": "white"
           },
           "zaxis": {
            "backgroundcolor": "#E5ECF6",
            "gridcolor": "white",
            "gridwidth": 2,
            "linecolor": "white",
            "showbackground": true,
            "ticks": "",
            "zerolinecolor": "white"
           }
          },
          "shapedefaults": {
           "line": {
            "color": "#2a3f5f"
           }
          },
          "ternary": {
           "aaxis": {
            "gridcolor": "white",
            "linecolor": "white",
            "ticks": ""
           },
           "baxis": {
            "gridcolor": "white",
            "linecolor": "white",
            "ticks": ""
           },
           "bgcolor": "#E5ECF6",
           "caxis": {
            "gridcolor": "white",
            "linecolor": "white",
            "ticks": ""
           }
          },
          "title": {
           "x": 0.05
          },
          "xaxis": {
           "automargin": true,
           "gridcolor": "white",
           "linecolor": "white",
           "ticks": "",
           "title": {
            "standoff": 15
           },
           "zerolinecolor": "white",
           "zerolinewidth": 2
          },
          "yaxis": {
           "automargin": true,
           "gridcolor": "white",
           "linecolor": "white",
           "ticks": "",
           "title": {
            "standoff": 15
           },
           "zerolinecolor": "white",
           "zerolinewidth": 2
          }
         }
        },
        "width": 1000,
        "xaxis": {
         "range": [
          -1,
          8
         ],
         "showline": true
        },
        "yaxis": {
         "range": [
          -1,
          8
         ],
         "showline": true
        }
       }
      },
      "text/html": [
       "<div>\n",
       "        \n",
       "        \n",
       "            <div id=\"3f6733b6-970b-4c8e-a79b-4a65c2869f85\" class=\"plotly-graph-div\" style=\"height:1000px; width:1000px;\"></div>\n",
       "            <script type=\"text/javascript\">\n",
       "                require([\"plotly\"], function(Plotly) {\n",
       "                    window.PLOTLYENV=window.PLOTLYENV || {};\n",
       "                    \n",
       "                if (document.getElementById(\"3f6733b6-970b-4c8e-a79b-4a65c2869f85\")) {\n",
       "                    Plotly.newPlot(\n",
       "                        '3f6733b6-970b-4c8e-a79b-4a65c2869f85',\n",
       "                        [{\"line\": {\"color\": \"LightSeaGreen\"}, \"mode\": \"markers\", \"type\": \"scatter\", \"x\": [0], \"y\": [-0.25]}, {\"line\": {\"color\": \"LightSeaGreen\"}, \"mode\": \"markers\", \"type\": \"scatter\", \"x\": [0], \"y\": [-0.25]}, {\"line\": {\"color\": \"LightSeaGreen\"}, \"mode\": \"markers\", \"type\": \"scatter\", \"x\": [0], \"y\": [-0.25]}, {\"line\": {\"color\": \"LightSeaGreen\"}, \"mode\": \"markers\", \"type\": \"scatter\", \"x\": [0], \"y\": [-0.25]}, {\"line\": {\"color\": \"LightSeaGreen\"}, \"mode\": \"markers\", \"type\": \"scatter\", \"x\": [0], \"y\": [-0.25]}, {\"line\": {\"color\": \"LightSeaGreen\"}, \"mode\": \"markers\", \"type\": \"scatter\", \"x\": [0], \"y\": [-0.25]}, {\"line\": {\"color\": \"#ff7f0e\"}, \"mode\": \"markers\", \"type\": \"scatter\", \"x\": [4], \"y\": [-0.35]}, {\"line\": {\"color\": \"#ff7f0e\"}, \"mode\": \"markers\", \"type\": \"scatter\", \"x\": [4], \"y\": [-0.35]}, {\"line\": {\"color\": \"#ff7f0e\"}, \"mode\": \"markers\", \"type\": \"scatter\", \"x\": [4], \"y\": [-0.35]}, {\"line\": {\"color\": \"#ff7f0e\"}, \"mode\": \"markers\", \"type\": \"scatter\", \"x\": [4], \"y\": [-0.35]}, {\"line\": {\"color\": \"#ff7f0e\"}, \"mode\": \"markers\", \"type\": \"scatter\", \"x\": [4], \"y\": [-0.35]}, {\"line\": {\"color\": \"#ff7f0e\"}, \"mode\": \"markers\", \"type\": \"scatter\", \"x\": [4], \"y\": [-0.35]}, {\"line\": {\"color\": \"#9467bd\"}, \"mode\": \"markers\", \"type\": \"scatter\", \"x\": [0], \"y\": [4.2]}, {\"line\": {\"color\": \"#9467bd\"}, \"mode\": \"markers\", \"type\": \"scatter\", \"x\": [0], \"y\": [4.2]}, {\"line\": {\"color\": \"#9467bd\"}, \"mode\": \"markers\", \"type\": \"scatter\", \"x\": [0], \"y\": [4.2]}, {\"line\": {\"color\": \"#9467bd\"}, \"mode\": \"markers\", \"type\": \"scatter\", \"x\": [0], \"y\": [4.2]}, {\"line\": {\"color\": \"#9467bd\"}, \"mode\": \"markers\", \"type\": \"scatter\", \"x\": [0], \"y\": [4.2]}, {\"line\": {\"color\": \"#9467bd\"}, \"mode\": \"markers\", \"type\": \"scatter\", \"x\": [0], \"y\": [4.2]}],\n",
       "                        {\"autosize\": false, \"height\": 1000, \"shapes\": [{\"line\": {\"color\": \"LightSeaGreen\"}, \"type\": \"circle\", \"x0\": -0.05, \"x1\": 0.05, \"xref\": \"x\", \"y0\": -0.3, \"y1\": -0.2, \"yref\": \"y\"}, {\"line\": {\"color\": \"LightSeaGreen\"}, \"type\": \"circle\", \"x0\": -0.1, \"x1\": 0.1, \"xref\": \"x\", \"y0\": -0.35, \"y1\": -0.15, \"yref\": \"y\"}, {\"line\": {\"color\": \"LightSeaGreen\"}, \"type\": \"circle\", \"x0\": -0.25, \"x1\": 0.25, \"xref\": \"x\", \"y0\": -0.5, \"y1\": 0.0, \"yref\": \"y\"}, {\"line\": {\"color\": \"LightSeaGreen\"}, \"type\": \"circle\", \"x0\": -0.7, \"x1\": 0.7, \"xref\": \"x\", \"y0\": -0.95, \"y1\": 0.44999999999999996, \"yref\": \"y\"}, {\"line\": {\"color\": \"LightSeaGreen\"}, \"type\": \"circle\", \"x0\": -2, \"x1\": 2, \"xref\": \"x\", \"y0\": -2.25, \"y1\": 1.75, \"yref\": \"y\"}, {\"line\": {\"color\": \"LightSeaGreen\"}, \"type\": \"circle\", \"x0\": -5, \"x1\": 5, \"xref\": \"x\", \"y0\": -5.25, \"y1\": 4.75, \"yref\": \"y\"}, {\"line\": {\"color\": \"#ff7f0e\"}, \"type\": \"circle\", \"x0\": 3.95, \"x1\": 4.05, \"xref\": \"x\", \"y0\": -0.39999999999999997, \"y1\": -0.3, \"yref\": \"y\"}, {\"line\": {\"color\": \"#ff7f0e\"}, \"type\": \"circle\", \"x0\": 3.9, \"x1\": 4.1, \"xref\": \"x\", \"y0\": -0.44999999999999996, \"y1\": -0.24999999999999997, \"yref\": \"y\"}, {\"line\": {\"color\": \"#ff7f0e\"}, \"type\": \"circle\", \"x0\": 3.75, \"x1\": 4.25, \"xref\": \"x\", \"y0\": -0.6, \"y1\": -0.09999999999999998, \"yref\": \"y\"}, {\"line\": {\"color\": \"#ff7f0e\"}, \"type\": \"circle\", \"x0\": 3.3, \"x1\": 4.7, \"xref\": \"x\", \"y0\": -1.0499999999999998, \"y1\": 0.35, \"yref\": \"y\"}, {\"line\": {\"color\": \"#ff7f0e\"}, \"type\": \"circle\", \"x0\": 2, \"x1\": 6, \"xref\": \"x\", \"y0\": -2.35, \"y1\": 1.65, \"yref\": \"y\"}, {\"line\": {\"color\": \"#ff7f0e\"}, \"type\": \"circle\", \"x0\": -1, \"x1\": 9, \"xref\": \"x\", \"y0\": -5.35, \"y1\": 4.65, \"yref\": \"y\"}, {\"line\": {\"color\": \"#9467bd\"}, \"type\": \"circle\", \"x0\": -0.05, \"x1\": 0.05, \"xref\": \"x\", \"y0\": 4.15, \"y1\": 4.25, \"yref\": \"y\"}, {\"line\": {\"color\": \"#9467bd\"}, \"type\": \"circle\", \"x0\": -0.1, \"x1\": 0.1, \"xref\": \"x\", \"y0\": 4.1000000000000005, \"y1\": 4.3, \"yref\": \"y\"}, {\"line\": {\"color\": \"#9467bd\"}, \"type\": \"circle\", \"x0\": -0.25, \"x1\": 0.25, \"xref\": \"x\", \"y0\": 3.95, \"y1\": 4.45, \"yref\": \"y\"}, {\"line\": {\"color\": \"#9467bd\"}, \"type\": \"circle\", \"x0\": -0.7, \"x1\": 0.7, \"xref\": \"x\", \"y0\": 3.5, \"y1\": 4.9, \"yref\": \"y\"}, {\"line\": {\"color\": \"#9467bd\"}, \"type\": \"circle\", \"x0\": -2, \"x1\": 2, \"xref\": \"x\", \"y0\": 2.2, \"y1\": 6.2, \"yref\": \"y\"}, {\"line\": {\"color\": \"#9467bd\"}, \"type\": \"circle\", \"x0\": -5, \"x1\": 5, \"xref\": \"x\", \"y0\": -0.7999999999999998, \"y1\": 9.2, \"yref\": \"y\"}], \"showlegend\": false, \"template\": {\"data\": {\"bar\": [{\"error_x\": {\"color\": \"#2a3f5f\"}, \"error_y\": {\"color\": \"#2a3f5f\"}, \"marker\": {\"line\": {\"color\": \"#E5ECF6\", \"width\": 0.5}}, \"type\": \"bar\"}], \"barpolar\": [{\"marker\": {\"line\": {\"color\": \"#E5ECF6\", \"width\": 0.5}}, \"type\": \"barpolar\"}], \"carpet\": [{\"aaxis\": {\"endlinecolor\": \"#2a3f5f\", \"gridcolor\": \"white\", \"linecolor\": \"white\", \"minorgridcolor\": \"white\", \"startlinecolor\": \"#2a3f5f\"}, \"baxis\": {\"endlinecolor\": \"#2a3f5f\", \"gridcolor\": \"white\", \"linecolor\": \"white\", \"minorgridcolor\": \"white\", \"startlinecolor\": \"#2a3f5f\"}, \"type\": \"carpet\"}], \"choropleth\": [{\"colorbar\": {\"outlinewidth\": 0, \"ticks\": \"\"}, \"type\": \"choropleth\"}], \"contour\": [{\"colorbar\": {\"outlinewidth\": 0, \"ticks\": \"\"}, \"colorscale\": [[0.0, \"#0d0887\"], [0.1111111111111111, \"#46039f\"], [0.2222222222222222, \"#7201a8\"], [0.3333333333333333, \"#9c179e\"], [0.4444444444444444, \"#bd3786\"], [0.5555555555555556, \"#d8576b\"], [0.6666666666666666, \"#ed7953\"], [0.7777777777777778, \"#fb9f3a\"], [0.8888888888888888, \"#fdca26\"], [1.0, \"#f0f921\"]], \"type\": \"contour\"}], \"contourcarpet\": [{\"colorbar\": {\"outlinewidth\": 0, \"ticks\": \"\"}, \"type\": \"contourcarpet\"}], \"heatmap\": [{\"colorbar\": {\"outlinewidth\": 0, \"ticks\": \"\"}, \"colorscale\": [[0.0, \"#0d0887\"], [0.1111111111111111, \"#46039f\"], [0.2222222222222222, \"#7201a8\"], [0.3333333333333333, \"#9c179e\"], [0.4444444444444444, \"#bd3786\"], [0.5555555555555556, \"#d8576b\"], [0.6666666666666666, \"#ed7953\"], [0.7777777777777778, \"#fb9f3a\"], [0.8888888888888888, \"#fdca26\"], [1.0, \"#f0f921\"]], \"type\": \"heatmap\"}], \"heatmapgl\": [{\"colorbar\": {\"outlinewidth\": 0, \"ticks\": \"\"}, \"colorscale\": [[0.0, \"#0d0887\"], [0.1111111111111111, \"#46039f\"], [0.2222222222222222, \"#7201a8\"], [0.3333333333333333, \"#9c179e\"], [0.4444444444444444, \"#bd3786\"], [0.5555555555555556, \"#d8576b\"], [0.6666666666666666, \"#ed7953\"], [0.7777777777777778, \"#fb9f3a\"], [0.8888888888888888, \"#fdca26\"], [1.0, \"#f0f921\"]], \"type\": \"heatmapgl\"}], \"histogram\": [{\"marker\": {\"colorbar\": {\"outlinewidth\": 0, \"ticks\": \"\"}}, \"type\": \"histogram\"}], \"histogram2d\": [{\"colorbar\": {\"outlinewidth\": 0, \"ticks\": \"\"}, \"colorscale\": [[0.0, \"#0d0887\"], [0.1111111111111111, \"#46039f\"], [0.2222222222222222, \"#7201a8\"], [0.3333333333333333, \"#9c179e\"], [0.4444444444444444, \"#bd3786\"], [0.5555555555555556, \"#d8576b\"], [0.6666666666666666, \"#ed7953\"], [0.7777777777777778, \"#fb9f3a\"], [0.8888888888888888, \"#fdca26\"], [1.0, \"#f0f921\"]], \"type\": \"histogram2d\"}], \"histogram2dcontour\": [{\"colorbar\": {\"outlinewidth\": 0, \"ticks\": \"\"}, \"colorscale\": [[0.0, \"#0d0887\"], [0.1111111111111111, \"#46039f\"], [0.2222222222222222, \"#7201a8\"], [0.3333333333333333, \"#9c179e\"], [0.4444444444444444, \"#bd3786\"], [0.5555555555555556, \"#d8576b\"], [0.6666666666666666, \"#ed7953\"], [0.7777777777777778, \"#fb9f3a\"], [0.8888888888888888, \"#fdca26\"], [1.0, \"#f0f921\"]], \"type\": \"histogram2dcontour\"}], \"mesh3d\": [{\"colorbar\": {\"outlinewidth\": 0, \"ticks\": \"\"}, \"type\": \"mesh3d\"}], \"parcoords\": [{\"line\": {\"colorbar\": {\"outlinewidth\": 0, \"ticks\": \"\"}}, \"type\": \"parcoords\"}], \"pie\": [{\"automargin\": true, \"type\": \"pie\"}], \"scatter\": [{\"marker\": {\"colorbar\": {\"outlinewidth\": 0, \"ticks\": \"\"}}, \"type\": \"scatter\"}], \"scatter3d\": [{\"line\": {\"colorbar\": {\"outlinewidth\": 0, \"ticks\": \"\"}}, \"marker\": {\"colorbar\": {\"outlinewidth\": 0, \"ticks\": \"\"}}, \"type\": \"scatter3d\"}], \"scattercarpet\": [{\"marker\": {\"colorbar\": {\"outlinewidth\": 0, \"ticks\": \"\"}}, \"type\": \"scattercarpet\"}], \"scattergeo\": [{\"marker\": {\"colorbar\": {\"outlinewidth\": 0, \"ticks\": \"\"}}, \"type\": \"scattergeo\"}], \"scattergl\": [{\"marker\": {\"colorbar\": {\"outlinewidth\": 0, \"ticks\": \"\"}}, \"type\": \"scattergl\"}], \"scattermapbox\": [{\"marker\": {\"colorbar\": {\"outlinewidth\": 0, \"ticks\": \"\"}}, \"type\": \"scattermapbox\"}], \"scatterpolar\": [{\"marker\": {\"colorbar\": {\"outlinewidth\": 0, \"ticks\": \"\"}}, \"type\": \"scatterpolar\"}], \"scatterpolargl\": [{\"marker\": {\"colorbar\": {\"outlinewidth\": 0, \"ticks\": \"\"}}, \"type\": \"scatterpolargl\"}], \"scatterternary\": [{\"marker\": {\"colorbar\": {\"outlinewidth\": 0, \"ticks\": \"\"}}, \"type\": \"scatterternary\"}], \"surface\": [{\"colorbar\": {\"outlinewidth\": 0, \"ticks\": \"\"}, \"colorscale\": [[0.0, \"#0d0887\"], [0.1111111111111111, \"#46039f\"], [0.2222222222222222, \"#7201a8\"], [0.3333333333333333, \"#9c179e\"], [0.4444444444444444, \"#bd3786\"], [0.5555555555555556, \"#d8576b\"], [0.6666666666666666, \"#ed7953\"], [0.7777777777777778, \"#fb9f3a\"], [0.8888888888888888, \"#fdca26\"], [1.0, \"#f0f921\"]], \"type\": \"surface\"}], \"table\": [{\"cells\": {\"fill\": {\"color\": \"#EBF0F8\"}, \"line\": {\"color\": \"white\"}}, \"header\": {\"fill\": {\"color\": \"#C8D4E3\"}, \"line\": {\"color\": \"white\"}}, \"type\": \"table\"}]}, \"layout\": {\"annotationdefaults\": {\"arrowcolor\": \"#2a3f5f\", \"arrowhead\": 0, \"arrowwidth\": 1}, \"coloraxis\": {\"colorbar\": {\"outlinewidth\": 0, \"ticks\": \"\"}}, \"colorscale\": {\"diverging\": [[0, \"#8e0152\"], [0.1, \"#c51b7d\"], [0.2, \"#de77ae\"], [0.3, \"#f1b6da\"], [0.4, \"#fde0ef\"], [0.5, \"#f7f7f7\"], [0.6, \"#e6f5d0\"], [0.7, \"#b8e186\"], [0.8, \"#7fbc41\"], [0.9, \"#4d9221\"], [1, \"#276419\"]], \"sequential\": [[0.0, \"#0d0887\"], [0.1111111111111111, \"#46039f\"], [0.2222222222222222, \"#7201a8\"], [0.3333333333333333, \"#9c179e\"], [0.4444444444444444, \"#bd3786\"], [0.5555555555555556, \"#d8576b\"], [0.6666666666666666, \"#ed7953\"], [0.7777777777777778, \"#fb9f3a\"], [0.8888888888888888, \"#fdca26\"], [1.0, \"#f0f921\"]], \"sequentialminus\": [[0.0, \"#0d0887\"], [0.1111111111111111, \"#46039f\"], [0.2222222222222222, \"#7201a8\"], [0.3333333333333333, \"#9c179e\"], [0.4444444444444444, \"#bd3786\"], [0.5555555555555556, \"#d8576b\"], [0.6666666666666666, \"#ed7953\"], [0.7777777777777778, \"#fb9f3a\"], [0.8888888888888888, \"#fdca26\"], [1.0, \"#f0f921\"]]}, \"colorway\": [\"#636efa\", \"#EF553B\", \"#00cc96\", \"#ab63fa\", \"#FFA15A\", \"#19d3f3\", \"#FF6692\", \"#B6E880\", \"#FF97FF\", \"#FECB52\"], \"font\": {\"color\": \"#2a3f5f\"}, \"geo\": {\"bgcolor\": \"white\", \"lakecolor\": \"white\", \"landcolor\": \"#E5ECF6\", \"showlakes\": true, \"showland\": true, \"subunitcolor\": \"white\"}, \"hoverlabel\": {\"align\": \"left\"}, \"hovermode\": \"closest\", \"mapbox\": {\"style\": \"light\"}, \"paper_bgcolor\": \"white\", \"plot_bgcolor\": \"#E5ECF6\", \"polar\": {\"angularaxis\": {\"gridcolor\": \"white\", \"linecolor\": \"white\", \"ticks\": \"\"}, \"bgcolor\": \"#E5ECF6\", \"radialaxis\": {\"gridcolor\": \"white\", \"linecolor\": \"white\", \"ticks\": \"\"}}, \"scene\": {\"xaxis\": {\"backgroundcolor\": \"#E5ECF6\", \"gridcolor\": \"white\", \"gridwidth\": 2, \"linecolor\": \"white\", \"showbackground\": true, \"ticks\": \"\", \"zerolinecolor\": \"white\"}, \"yaxis\": {\"backgroundcolor\": \"#E5ECF6\", \"gridcolor\": \"white\", \"gridwidth\": 2, \"linecolor\": \"white\", \"showbackground\": true, \"ticks\": \"\", \"zerolinecolor\": \"white\"}, \"zaxis\": {\"backgroundcolor\": \"#E5ECF6\", \"gridcolor\": \"white\", \"gridwidth\": 2, \"linecolor\": \"white\", \"showbackground\": true, \"ticks\": \"\", \"zerolinecolor\": \"white\"}}, \"shapedefaults\": {\"line\": {\"color\": \"#2a3f5f\"}}, \"ternary\": {\"aaxis\": {\"gridcolor\": \"white\", \"linecolor\": \"white\", \"ticks\": \"\"}, \"baxis\": {\"gridcolor\": \"white\", \"linecolor\": \"white\", \"ticks\": \"\"}, \"bgcolor\": \"#E5ECF6\", \"caxis\": {\"gridcolor\": \"white\", \"linecolor\": \"white\", \"ticks\": \"\"}}, \"title\": {\"x\": 0.05}, \"xaxis\": {\"automargin\": true, \"gridcolor\": \"white\", \"linecolor\": \"white\", \"ticks\": \"\", \"title\": {\"standoff\": 15}, \"zerolinecolor\": \"white\", \"zerolinewidth\": 2}, \"yaxis\": {\"automargin\": true, \"gridcolor\": \"white\", \"linecolor\": \"white\", \"ticks\": \"\", \"title\": {\"standoff\": 15}, \"zerolinecolor\": \"white\", \"zerolinewidth\": 2}}}, \"width\": 1000, \"xaxis\": {\"range\": [-1, 8], \"showline\": true}, \"yaxis\": {\"range\": [-1, 8], \"showline\": true}},\n",
       "                        {\"responsive\": true}\n",
       "                    ).then(function(){\n",
       "                            \n",
       "var gd = document.getElementById('3f6733b6-970b-4c8e-a79b-4a65c2869f85');\n",
       "var x = new MutationObserver(function (mutations, observer) {{\n",
       "        var display = window.getComputedStyle(gd).display;\n",
       "        if (!display || display === 'none') {{\n",
       "            console.log([gd, 'removed!']);\n",
       "            Plotly.purge(gd);\n",
       "            observer.disconnect();\n",
       "        }}\n",
       "}});\n",
       "\n",
       "// Listen for the removal of the full notebook cells\n",
       "var notebookContainer = gd.closest('#notebook-container');\n",
       "if (notebookContainer) {{\n",
       "    x.observe(notebookContainer, {childList: true});\n",
       "}}\n",
       "\n",
       "// Listen for the clearing of the current output cell\n",
       "var outputEl = gd.closest('.output');\n",
       "if (outputEl) {{\n",
       "    x.observe(outputEl, {childList: true});\n",
       "}}\n",
       "\n",
       "                        })\n",
       "                };\n",
       "                });\n",
       "            </script>\n",
       "        </div>"
      ]
     },
     "metadata": {},
     "output_type": "display_data"
    }
   ],
   "source": [
    "fig=init_figure()\n",
    "beacons = [(0,-0.25),(4,-0.35),(0,4.2)]\n",
    "colors = [\"LightSeaGreen\",\"#ff7f0e\",\"#9467bd\"]\n",
    "for b in range(3):\n",
    "    add_beacon_circles(fig,[0.05,0.1,0.25,0.7,2,5],beacons[b],colors[b])\n",
    "fig.show()"
   ]
  },
  {
   "cell_type": "markdown",
   "metadata": {},
   "source": [
    "#  Approximating theoretical maximum accuracy"
   ]
  },
  {
   "cell_type": "markdown",
   "metadata": {},
   "source": [
    "We know, that $RSSI = 11 \\lg \\frac{P}{P_0}$\n",
    "\n",
    "So, knowing, that intensity is the power transfered per unit area, and by having power in numenator and denominator, we can conclude, that $RSSI = 10 \\lg \\frac{\\mathcal{I}}{\\mathcal{I}_0}$  \n",
    "\n",
    "Due to Inverse-square law we know, that $\\mathcal{I} \\propto \\frac{1}{r^2}$:\n",
    "\n",
    "So, $\\mathcal{I} = \\frac{c}{r^2}$\n",
    "\n",
    "$RSSI = 10 \\lg \\mathcal{I} - 10 \\lg \\mathcal{I_0} = \n",
    "10 \\lg{\\frac{c}{r^2}} - 10 \\lg{\\mathcal{I_0}} =\n",
    "-20 \\lg{r} + 10 \\lg{c} - 10 \\lg{\\mathcal{I_0}}$\n",
    "\n",
    "Let's substitute $\\mathcal{C} = 10 \\lg{c} - 10 \\lg{\\mathcal{I_0}}$, as\n",
    "it don't depends on distance and is constant\n",
    "\n",
    "\n",
    "$RSSI = -20 \\lg r + \\mathcal{C}$  "
   ]
  },
  {
   "cell_type": "markdown",
   "metadata": {},
   "source": [
    "So let's find the range of distance, that can correspond to same value of RSSI.  \n",
    "We will use next charachteristics of kit (CY8CPROTO-063-BLE), that we are using:\n",
    " - Resolution in 1 db\n",
    " - Accuracy in 4 db"
   ]
  },
  {
   "cell_type": "markdown",
   "metadata": {},
   "source": [
    "So we will create sequence of distance [0.01 - 10] m, \n",
    "and then finding corresponding RSSI. After that we will create groups with rssi values, that are in\n",
    "range [c-accuracy, c+accuracy]. So this group will map to the distance interval and we will\n",
    "assume, that we cannot distinguish rssi's on this interval. "
   ]
  },
  {
   "cell_type": "markdown",
   "metadata": {},
   "source": [
    "##  1-dimensional case"
   ]
  },
  {
   "cell_type": "code",
   "execution_count": 99,
   "metadata": {},
   "outputs": [],
   "source": [
    "@np.vectorize\n",
    "\n",
    "def rssi_from_distance(d):\n",
    "    return -20*np.log10(d)\n",
    "\n",
    "\n",
    "def get_bins_according_to_accuracy(rssi, accuracy):\n",
    "    bins = np.arange(rssi.min(), rssi.max())\n",
    "    group_size = int(accuracy*2 + 1)\n",
    "\n",
    "    \n",
    "\n",
    "    split_indeces = list(range(group_size, bins.shape[0], group_size))\n",
    "    if split_indeces[-1] != bins.shape[0] - 1:\n",
    "        split_indeces.append(bins.shape[0]-1)\n",
    "\n",
    "        \n",
    "\n",
    "    bins = np.split(bins, split_indeces)\n",
    "    bins=np.fromiter(map(np.mean, bins), dtype=float)\n",
    "\n",
    "    return [ bins[abs(bins - rssi[i]).argmin()] for i in range(rssi.shape[0])]\n",
    "\n",
    "\n",
    "def get_intervals_with_same_rssi(rssi_bins, dist_bins):\n",
    "    rssi_to_dist_map = defaultdict(list)\n",
    "    for rssi, dist in zip(rssi_bins, dist_bins):\n",
    "        rssi_to_dist_map[rssi].append(dist)\n",
    "    return np.array([(min(distances), max(distances)) for distances in rssi_to_dist_map.values()])\n",
    "\n",
    "def get_radiuses_for_distance_contour_lines(intervals):\n",
    "    radiuses = np.array([end for st, end in intervals])\n",
    "    return radiuses"
   ]
  },
  {
   "cell_type": "code",
   "execution_count": 100,
   "metadata": {},
   "outputs": [
    {
     "name": "stdout",
     "output_type": "stream",
     "text": [
      "Distance steps: [0.01 0.02 0.05 0.16 0.47 1.33 3.75 9.99]\n"
     ]
    },
    {
     "data": {
      "image/png": "[encoded data removed]",
      "text/plain": [
       "<Figure size 432x288 with 1 Axes>"
      ]
     },
     "metadata": {
      "needs_background": "light"
     },
     "output_type": "display_data"
    }
   ],
   "source": [
    "distances = np.arange(0.01, 10, 0.01)\n",
    "rssi = rssi_from_distance(distances)\n",
    "\n",
    "rssi_bins = get_bins_according_to_accuracy(rssi, 4)\n",
    "\n",
    "sns.lineplot(x=distances, y=rssi_bins)\n",
    "\n",
    "intervals = get_intervals_with_same_rssi(rssi_bins, distances)\n",
    "radiuses = get_radiuses_for_distance_contour_lines(intervals)\n",
    "\n",
    "print(\"Distance steps:\", radiuses)"
   ]
  },
  {
   "cell_type": "markdown",
   "metadata": {},
   "source": [
    "##  2-dimensional case"
   ]
  },
  {
   "cell_type": "markdown",
   "metadata": {},
   "source": [
    "###  Define local enviroment constants"
   ]
  },
  {
   "cell_type": "code",
   "execution_count": 231,
   "metadata": {},
   "outputs": [],
   "source": [
    "x_len = 3\n",
    "y_len = 4\n",
    "\n",
    "beacon_number = 5\n",
    "beacons_location = np.array([[0.0, -0.2], [3.5, 0.25], [3.5, 2],[3.5,4.3],[0,4.2]])"
   ]
  },
  {
   "cell_type": "markdown",
   "metadata": {},
   "source": [
    "###  Generate Grid of points"
   ]
  },
  {
   "cell_type": "code",
   "execution_count": 232,
   "metadata": {},
   "outputs": [],
   "source": [
    "def cartesian_cross_product(x,y):\n",
    "    cross_product = np.transpose([np.tile(x, len(y)),np.repeat(y,len(x))])\n",
    "    return cross_product\n",
    "\n",
    "delta = 0.01\n",
    "points = cartesian_cross_product(np.arange(0, x_len, delta), np.arange(0, y_len, delta))"
   ]
  },
  {
   "cell_type": "markdown",
   "metadata": {},
   "source": [
    "###  Group points by the same RSSI regions"
   ]
  },
  {
   "cell_type": "code",
   "execution_count": 233,
   "metadata": {},
   "outputs": [],
   "source": [
    "def distance(p1, p2):\n",
    "    def helper(p1, p2):\n",
    "        return (((p1[:,0] - p2[0])**2 + (p1[:,1] - p2[1])**2)**0.5)\n",
    "    vectorized_distance = np.vectorize(helper, signature='(n,m),(m)->(n)')\n",
    "    \n",
    "    return np.apply_along_axis(lambda x: vectorized_distance(p1, x), 1, p2)\n",
    "\n",
    "distance = np.vectorize(distance, signature='(n,m),(k,m)->(k,n)')\n",
    "\n",
    "@np.vectorize\n",
    "def find_interval_num(dist):\n",
    "    return (dist > radiuses).argmin() - 1\n",
    "\n",
    "def find_point_flag(p, beacons_location, radiuses):\n",
    "    return find_interval_num(distance(p, beacons_location).T)\n",
    "\n",
    "find_point_flag = np.vectorize(find_point_flag, signature='(n,m),(i,m),(j)->(n,i)')"
   ]
  },
  {
   "cell_type": "code",
   "execution_count": 234,
   "metadata": {},
   "outputs": [],
   "source": [
    "point_flags = find_point_flag(points, beacons_location, radiuses)\n",
    "\n",
    "points_grouped_list = defaultdict(list)\n",
    "for i in range(point_flags.shape[0]):\n",
    "     points_grouped_list[tuple(point_flags[i])].append(points[i])\n",
    "\n",
    "points_grouped = dict()\n",
    "for group in points_grouped_list.keys():\n",
    "    points_grouped[group] = np.array(points_grouped_list[group])"
   ]
  },
  {
   "cell_type": "markdown",
   "metadata": {},
   "source": [
    "###  Get rid of small regions"
   ]
  },
  {
   "cell_type": "code",
   "execution_count": 235,
   "metadata": {},
   "outputs": [],
   "source": [
    "minimum_radius = 0.1\n",
    "\n",
    "min_group = np.asscalar(find_interval_num(minimum_radius))\n",
    "\n",
    "points_grouped_without_small = dict(filter(lambda x: all(map(lambda x: x >= min_group, x[0])), points_grouped.items()))"
   ]
  },
  {
   "cell_type": "markdown",
   "metadata": {},
   "source": [
    "###  Calculate accuracy"
   ]
  },
  {
   "cell_type": "code",
   "execution_count": 236,
   "metadata": {},
   "outputs": [],
   "source": [
    "def accuracy_by_box(points):\n",
    "    x_boundary = np.array([min(points, key=lambda x: x[0])[0], max(points, key=lambda x: x[0])[0]])\n",
    "    y_boundary = np.array([min(points, key=lambda x: x[1])[1], max(points, key=lambda x: x[1])[1]])\n",
    "\n",
    "    minima, maxima = np.concatenate([x_boundary.reshape(1, -1), y_boundary.reshape(1, -1)]).T\n",
    "    return np.asscalar(distance(minima.reshape(1,-1), maxima.reshape(1,-1)))/2\n",
    "\n",
    "def accuracy_by_mean_dist(points):\n",
    "    return np.mean(distance(points, points))"
   ]
  },
  {
   "cell_type": "code",
   "execution_count": 237,
   "metadata": {},
   "outputs": [],
   "source": [
    "region_accuracy_by_box = dict()\n",
    "\n",
    "for region in points_grouped_without_small.items():\n",
    "    region_accuracy_by_box[region[0]] = accuracy_by_box(region[1])"
   ]
  },
  {
   "cell_type": "code",
   "execution_count": 22,
   "metadata": {},
   "outputs": [],
   "source": [
    "region_accuracy_by_mean_dist = dict()\n",
    "\n",
    "for region in points_grouped_without_small.items():\n",
    "    region_accuracy_by_mean_dist[region[0]] = accuracy_by_mean_dist(region[1])"
   ]
  },
  {
   "cell_type": "code",
   "execution_count": 23,
   "metadata": {},
   "outputs": [
    {
     "ename": "NameError",
     "evalue": "name 'region_accuracy_by_mean_dist' is not defined",
     "output_type": "error",
     "traceback": [
      "\u001b[1;31m---------------------------------------------------------------------------\u001b[0m",
      "\u001b[1;31mNameError\u001b[0m                                 Traceback (most recent call last)",
      "\u001b[1;32m<ipython-input-23-8a834a1e523b>\u001b[0m in \u001b[0;36m<module>\u001b[1;34m\u001b[0m\n\u001b[0;32m      1\u001b[0m accuracies = np.array([np.fromiter(chain(region_accuracy_by_box.values()), float),\n\u001b[0;32m      2\u001b[0m \u001b[1;33m\u001b[0m\u001b[0m\n\u001b[1;32m----> 3\u001b[1;33m                        np.fromiter(chain(region_accuracy_by_mean_dist.values()), float)])\n\u001b[0m",
      "\u001b[1;31mNameError\u001b[0m: name 'region_accuracy_by_mean_dist' is not defined"
     ]
    }
   ],
   "source": [
    "accuracies = np.array([np.fromiter(chain(region_accuracy_by_box.values()), float),\n",
    "\n",
    "                       np.fromiter(chain(region_accuracy_by_mean_dist.values()), float)])"
   ]
  },
  {
   "cell_type": "code",
   "execution_count": 24,
   "metadata": {},
   "outputs": [
    {
     "ename": "NameError",
     "evalue": "name 'accuracies' is not defined",
     "output_type": "error",
     "traceback": [
      "\u001b[1;31m---------------------------------------------------------------------------\u001b[0m",
      "\u001b[1;31mNameError\u001b[0m                                 Traceback (most recent call last)",
      "\u001b[1;32m<ipython-input-24-f0be34fb6e4e>\u001b[0m in \u001b[0;36m<module>\u001b[1;34m\u001b[0m\n\u001b[1;32m----> 1\u001b[1;33m \u001b[0mcont\u001b[0m \u001b[1;33m=\u001b[0m \u001b[0mplt\u001b[0m\u001b[1;33m.\u001b[0m\u001b[0mbar\u001b[0m\u001b[1;33m(\u001b[0m\u001b[0mx\u001b[0m\u001b[1;33m=\u001b[0m\u001b[0mrange\u001b[0m\u001b[1;33m(\u001b[0m\u001b[0maccuracies\u001b[0m\u001b[1;33m.\u001b[0m\u001b[0mshape\u001b[0m\u001b[1;33m[\u001b[0m\u001b[1;36m1\u001b[0m\u001b[1;33m]\u001b[0m\u001b[1;33m)\u001b[0m\u001b[1;33m,\u001b[0m \u001b[0mheight\u001b[0m\u001b[1;33m=\u001b[0m\u001b[0maccuracies\u001b[0m\u001b[1;33m[\u001b[0m\u001b[1;36m0\u001b[0m\u001b[1;33m,\u001b[0m\u001b[1;33m:\u001b[0m\u001b[1;33m]\u001b[0m\u001b[1;33m)\u001b[0m\u001b[1;33m\u001b[0m\u001b[1;33m\u001b[0m\u001b[0m\n\u001b[0m\u001b[0;32m      2\u001b[0m \u001b[0mcont\u001b[0m \u001b[1;33m=\u001b[0m \u001b[0mplt\u001b[0m\u001b[1;33m.\u001b[0m\u001b[0mbar\u001b[0m\u001b[1;33m(\u001b[0m\u001b[0mx\u001b[0m\u001b[1;33m=\u001b[0m\u001b[0mrange\u001b[0m\u001b[1;33m(\u001b[0m\u001b[0maccuracies\u001b[0m\u001b[1;33m.\u001b[0m\u001b[0mshape\u001b[0m\u001b[1;33m[\u001b[0m\u001b[1;36m1\u001b[0m\u001b[1;33m]\u001b[0m\u001b[1;33m)\u001b[0m\u001b[1;33m,\u001b[0m \u001b[0mheight\u001b[0m\u001b[1;33m=\u001b[0m\u001b[0maccuracies\u001b[0m\u001b[1;33m[\u001b[0m\u001b[1;36m1\u001b[0m\u001b[1;33m,\u001b[0m\u001b[1;33m:\u001b[0m\u001b[1;33m]\u001b[0m\u001b[1;33m)\u001b[0m\u001b[1;33m\u001b[0m\u001b[1;33m\u001b[0m\u001b[0m\n\u001b[0;32m      3\u001b[0m \u001b[1;33m\u001b[0m\u001b[0m\n\u001b[0;32m      4\u001b[0m \u001b[0mplt\u001b[0m\u001b[1;33m.\u001b[0m\u001b[0mlegend\u001b[0m\u001b[1;33m(\u001b[0m\u001b[1;33m[\u001b[0m\u001b[1;34m\"Half length from minima and maxima\"\u001b[0m\u001b[1;33m,\u001b[0m \u001b[1;34m\"Mean distance between points\"\u001b[0m\u001b[1;33m]\u001b[0m\u001b[1;33m)\u001b[0m\u001b[1;33m\u001b[0m\u001b[1;33m\u001b[0m\u001b[0m\n\u001b[0;32m      5\u001b[0m \u001b[0mplt\u001b[0m\u001b[1;33m.\u001b[0m\u001b[0mylabel\u001b[0m\u001b[1;33m(\u001b[0m\u001b[1;34m\"Accuracy\"\u001b[0m\u001b[1;33m)\u001b[0m\u001b[1;33m\u001b[0m\u001b[1;33m\u001b[0m\u001b[0m\n",
      "\u001b[1;31mNameError\u001b[0m: name 'accuracies' is not defined"
     ]
    }
   ],
   "source": [
    "cont = plt.bar(x=range(accuracies.shape[1]), height=accuracies[0,:])\n",
    "cont = plt.bar(x=range(accuracies.shape[1]), height=accuracies[1,:])\n",
    "\n",
    "plt.legend([\"Half length from minima and maxima\", \"Mean distance between points\"])\n",
    "plt.ylabel(\"Accuracy\")\n",
    "plt.xlabel(\"Number of Group\")"
   ]
  },
  {
   "cell_type": "code",
   "execution_count": 25,
   "metadata": {},
   "outputs": [
    {
     "ename": "NameError",
     "evalue": "name 'accuracies' is not defined",
     "output_type": "error",
     "traceback": [
      "\u001b[1;31m---------------------------------------------------------------------------\u001b[0m",
      "\u001b[1;31mNameError\u001b[0m                                 Traceback (most recent call last)",
      "\u001b[1;32m<ipython-input-25-94fe0d4d51d0>\u001b[0m in \u001b[0;36m<module>\u001b[1;34m\u001b[0m\n\u001b[1;32m----> 1\u001b[1;33m \u001b[0mprint\u001b[0m\u001b[1;33m(\u001b[0m\u001b[1;34m\"Mean accuracy using half length of minima and maxima: {:.2}\"\u001b[0m\u001b[1;33m.\u001b[0m\u001b[0mformat\u001b[0m\u001b[1;33m(\u001b[0m\u001b[0mnp\u001b[0m\u001b[1;33m.\u001b[0m\u001b[0mmean\u001b[0m\u001b[1;33m(\u001b[0m\u001b[0maccuracies\u001b[0m\u001b[1;33m[\u001b[0m\u001b[1;36m0\u001b[0m\u001b[1;33m]\u001b[0m\u001b[1;33m)\u001b[0m\u001b[1;33m)\u001b[0m\u001b[1;33m)\u001b[0m\u001b[1;33m\u001b[0m\u001b[1;33m\u001b[0m\u001b[0m\n\u001b[0m\u001b[0;32m      2\u001b[0m \u001b[0mprint\u001b[0m\u001b[1;33m(\u001b[0m\u001b[1;34m\"Mean accuracy using mean distance between points: {:.2}\"\u001b[0m\u001b[1;33m.\u001b[0m\u001b[0mformat\u001b[0m\u001b[1;33m(\u001b[0m\u001b[0mnp\u001b[0m\u001b[1;33m.\u001b[0m\u001b[0mmean\u001b[0m\u001b[1;33m(\u001b[0m\u001b[0maccuracies\u001b[0m\u001b[1;33m[\u001b[0m\u001b[1;36m1\u001b[0m\u001b[1;33m]\u001b[0m\u001b[1;33m)\u001b[0m\u001b[1;33m)\u001b[0m\u001b[1;33m)\u001b[0m\u001b[1;33m\u001b[0m\u001b[1;33m\u001b[0m\u001b[0m\n",
      "\u001b[1;31mNameError\u001b[0m: name 'accuracies' is not defined"
     ]
    }
   ],
   "source": [
    "print(\"Mean accuracy using half length of minima and maxima: {:.2}\".format(np.mean(accuracies[0])))\n",
    "print(\"Mean accuracy using mean distance between points: {:.2}\".format(np.mean(accuracies[1])))"
   ]
  },
  {
   "cell_type": "code",
   "execution_count": 238,
   "metadata": {},
   "outputs": [],
   "source": [
    "field = np.zeros((x_len*100,y_len*100))\n",
    "for reg, points in points_grouped_without_small.items():\n",
    "    for point in points:\n",
    "        field[int(round(point[0]*100))][int(round(point[1]*100))] = region_accuracy_by_box[reg]"
   ]
  },
  {
   "cell_type": "code",
   "execution_count": 239,
   "metadata": {},
   "outputs": [
    {
     "data": {
      "text/plain": [
       "<matplotlib.axes._subplots.AxesSubplot at 0x13eaca28d90>"
      ]
     },
     "execution_count": 239,
     "metadata": {},
     "output_type": "execute_result"
    },
    {
     "data": {
      "image/png": "[encoded data removed]",
      "text/plain": [
       "<Figure size 432x288 with 2 Axes>"
      ]
     },
     "metadata": {
      "needs_background": "light"
     },
     "output_type": "display_data"
    }
   ],
   "source": [
    "sns.heatmap(field,xticklabels=False,yticklabels=False,cmap=\"coolwarm_r\")"
   ]
  },
  {
   "cell_type": "code",
   "execution_count": null,
   "metadata": {},
   "outputs": [],
   "source": []
  }
 ],
 "metadata": {
  "kernelspec": {
   "display_name": "Python 3",
   "language": "python",
   "name": "python3"
  },
  "language_info": {
   "codemirror_mode": {
    "name": "ipython",
    "version": 3
   },
   "file_extension": ".py",
   "mimetype": "text/x-python",
   "name": "python",
   "nbconvert_exporter": "python",
   "pygments_lexer": "ipython3",
   "version": "3.8.2"
  },
  "toc": {
   "base_numbering": 1,
   "nav_menu": {},
   "number_sections": true,
   "sideBar": true,
   "skip_h1_title": false,
   "title_cell": "Table of Contents",
   "title_sidebar": "Contents",
   "toc_cell": false,
   "toc_position": {},
   "toc_section_display": true,
   "toc_window_display": false
  }
 },
 "nbformat": 4,
 "nbformat_minor": 2
}
