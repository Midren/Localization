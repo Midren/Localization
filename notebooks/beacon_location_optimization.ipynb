{
 "cells": [
  {
   "cell_type": "code",
   "execution_count": 1,
   "metadata": {},
   "outputs": [
    {
     "ename": "ImportError",
     "evalue": "attempted relative import with no known parent package",
     "output_type": "error",
     "traceback": [
      "\u001b[0;31m---------------------------------------------------------------------------\u001b[0m",
      "\u001b[0;31mImportError\u001b[0m                               Traceback (most recent call last)",
      "\u001b[0;32m<ipython-input-1-b7c1ce9870f2>\u001b[0m in \u001b[0;36m<module>\u001b[0;34m\u001b[0m\n\u001b[0;32m----> 1\u001b[0;31m \u001b[0;32mfrom\u001b[0m \u001b[0;34m.\u001b[0m\u001b[0;34m.\u001b[0m\u001b[0mtheoretical_approximation\u001b[0m \u001b[0;32mimport\u001b[0m \u001b[0mcalculate_mean_accuracy\u001b[0m\u001b[0;34m\u001b[0m\u001b[0;34m\u001b[0m\u001b[0m\n\u001b[0m\u001b[1;32m      2\u001b[0m \u001b[0;34m\u001b[0m\u001b[0m\n\u001b[1;32m      3\u001b[0m \u001b[0;32mimport\u001b[0m \u001b[0mnumpy\u001b[0m \u001b[0;32mas\u001b[0m \u001b[0mnp\u001b[0m\u001b[0;34m\u001b[0m\u001b[0;34m\u001b[0m\u001b[0m\n\u001b[1;32m      4\u001b[0m \u001b[0;32mfrom\u001b[0m \u001b[0mscipy\u001b[0m\u001b[0;34m.\u001b[0m\u001b[0moptimize\u001b[0m \u001b[0;32mimport\u001b[0m \u001b[0mLinearConstraint\u001b[0m\u001b[0;34m,\u001b[0m \u001b[0mNonlinearConstraint\u001b[0m\u001b[0;34m,\u001b[0m \u001b[0mminimize\u001b[0m\u001b[0;34m,\u001b[0m \u001b[0mminimize_scalar\u001b[0m\u001b[0;34m\u001b[0m\u001b[0;34m\u001b[0m\u001b[0m\n",
      "\u001b[0;31mImportError\u001b[0m: attempted relative import with no known parent package"
     ]
    }
   ],
   "source": [
    "from theoretical_approximation import calculate_mean_accuracy\n",
    "\n",
    "import numpy as np\n",
    "from scipy.optimize import LinearConstraint, NonlinearConstraint, minimize, minimize_scalar"
   ]
  },
  {
   "cell_type": "code",
   "execution_count": 2,
   "metadata": {},
   "outputs": [],
   "source": [
    "np.random.seed(42)"
   ]
  },
  {
   "cell_type": "code",
   "execution_count": 3,
   "metadata": {},
   "outputs": [
    {
     "data": {
      "text/plain": [
       "0.6699099035424747"
      ]
     },
     "execution_count": 3,
     "metadata": {},
     "output_type": "execute_result"
    }
   ],
   "source": [
    "rssi_accuracy = 4\n",
    "beacon_number = 3\n",
    "beacons_location = np.array([[0.5, 0.5], [2.5, 3.5], [1, 1]])\n",
    "\n",
    "x_len = 3\n",
    "y_len = 4\n",
    "delta = 0.01\n",
    "radiuses = get_radiuses_for_distance_contour_lines(rssi_accuracy)\n",
    "\n",
    "calculate_mean_accuracy(x_len, y_len, beacons_location, radiuses)"
   ]
  },
  {
   "cell_type": "markdown",
   "metadata": {},
   "source": [
    "# Beacon location optimization"
   ]
  },
  {
   "cell_type": "markdown",
   "metadata": {},
   "source": [
    "Our goal is to minimize mean accuracy\n",
    "\n",
    "We have next variables:\n",
    "\n",
    "$n$ - number of beacons  \n",
    "$x_{len}$ - max x coordinate of room  \n",
    "$y_{len}$ - max y coordinate of room\n",
    "\n",
    "$x_i$, $i=\\overline{1,n}$ - x coordinate of nth beacon  \n",
    "$y_i$, $i=\\overline{1,n}$ - y coordinate of nth beacon\n",
    "\n",
    "We have next constraints:\n",
    "\n",
    "$ 0 \\leq x_i \\leq x_{len}$, $i = \\overline{1,n} $  \n",
    "$ 0 \\leq y_i \\leq y_{len}$, $i = \\overline{1,n} $"
   ]
  },
  {
   "cell_type": "code",
   "execution_count": 4,
   "metadata": {},
   "outputs": [],
   "source": [
    "def obj(x):\n",
    "    x, y = np.split(x, 2)\n",
    "    locations = np.vstack([x, y]).T\n",
    "    return calculate_mean_accuracy(x_len, y_len, locations, radiuses)"
   ]
  },
  {
   "cell_type": "code",
   "execution_count": 8,
   "metadata": {},
   "outputs": [
    {
     "name": "stdout",
     "output_type": "stream",
     "text": [
      "Initial Objective (Accuracy): 1.2561106193023512\n"
     ]
    }
   ],
   "source": [
    "bnds = [(0, x_len) for i in range(beacon_number)] + [(0, y_len) for i in range(beacon_number)]\n",
    "\n",
    "# x0 = np.array([0.5, 2.5, 1, 0.5, 3.5, 1])\n",
    "x0 = np.ones(beacon_number*2)\n",
    "\n",
    "# show initial objective\n",
    "print('Initial Objective (Accuracy): ' + str(obj(x0)))"
   ]
  },
  {
   "cell_type": "code",
   "execution_count": 20,
   "metadata": {},
   "outputs": [
    {
     "name": "stdout",
     "output_type": "stream",
     "text": [
      "Optimization terminated successfully.    (Exit mode 0)\n",
      "            Current function value: 1.2561106193023512\n",
      "            Iterations: 5\n",
      "            Function evaluations: 8\n",
      "            Gradient evaluations: 1\n"
     ]
    }
   ],
   "source": [
    "solution = minimize(obj, x0, method='SLSQP', bounds=bnds, tol=0.01, options={\"maxiter\":1000, 'disp': True})"
   ]
  },
  {
   "cell_type": "code",
   "execution_count": 22,
   "metadata": {},
   "outputs": [
    {
     "data": {
      "text/plain": [
       "1.2561106193023512"
      ]
     },
     "execution_count": 22,
     "metadata": {},
     "output_type": "execute_result"
    }
   ],
   "source": [
    "obj(solution.x)"
   ]
  },
  {
   "cell_type": "code",
   "execution_count": null,
   "metadata": {},
   "outputs": [],
   "source": []
  }
 ],
 "metadata": {
  "kernelspec": {
   "display_name": "Python 3",
   "language": "python",
   "name": "python3"
  },
  "language_info": {
   "codemirror_mode": {
    "name": "ipython",
    "version": 3
   },
   "file_extension": ".py",
   "mimetype": "text/x-python",
   "name": "python",
   "nbconvert_exporter": "python",
   "pygments_lexer": "ipython3",
   "version": "3.8.2"
  },
  "toc": {
   "base_numbering": 1,
   "nav_menu": {},
   "number_sections": true,
   "sideBar": true,
   "skip_h1_title": false,
   "title_cell": "Table of Contents",
   "title_sidebar": "Contents",
   "toc_cell": false,
   "toc_position": {},
   "toc_section_display": true,
   "toc_window_display": false
  }
 },
 "nbformat": 4,
 "nbformat_minor": 2
}
